{
 "cells": [
  {
   "cell_type": "code",
   "execution_count": 2,
   "id": "4a5311dc",
   "metadata": {},
   "outputs": [
    {
     "data": {
      "text/plain": [
       "True"
      ]
     },
     "execution_count": 2,
     "metadata": {},
     "output_type": "execute_result"
    }
   ],
   "source": [
    "from dotenv import load_dotenv\n",
    "load_dotenv()"
   ]
  },
  {
   "cell_type": "markdown",
   "id": "eac5a487",
   "metadata": {},
   "source": [
    "#### **Google Models**"
   ]
  },
  {
   "cell_type": "code",
   "execution_count": 3,
   "id": "5b09f718",
   "metadata": {},
   "outputs": [
    {
     "data": {
      "text/plain": [
       "'The capital of the USA is **Washington, D.C.**'"
      ]
     },
     "execution_count": 3,
     "metadata": {},
     "output_type": "execute_result"
    }
   ],
   "source": [
    "from langchain_google_genai import ChatGoogleGenerativeAI\n",
    "\n",
    "gemini_model=ChatGoogleGenerativeAI(model='gemini-2.5-flash-preview-05-20')\n",
    "gemini_model.invoke(\"what is capital of USA?\").content"
   ]
  },
  {
   "cell_type": "markdown",
   "id": "a49e0a8a",
   "metadata": {},
   "source": [
    "#### **GROQ MODEL**"
   ]
  },
  {
   "cell_type": "code",
   "execution_count": 4,
   "id": "3af3af2e",
   "metadata": {},
   "outputs": [
    {
     "data": {
      "text/plain": [
       "'<think>\\n\\n</think>\\n\\nThe capital of the United States is **Washington, D.C.** (short for District of Columbia).'"
      ]
     },
     "execution_count": 4,
     "metadata": {},
     "output_type": "execute_result"
    }
   ],
   "source": [
    "from langchain_groq import ChatGroq\n",
    "\n",
    "groq_model=ChatGroq(model=\"deepseek-r1-distill-llama-70b\")\n",
    "groq_model.invoke(\"what is capital of USA?\").content"
   ]
  },
  {
   "cell_type": "markdown",
   "id": "a018cb74",
   "metadata": {},
   "source": [
    "## **There are other models you can try**"
   ]
  },
  {
   "cell_type": "code",
   "execution_count": null,
   "id": "24119715",
   "metadata": {},
   "outputs": [],
   "source": [
    "from langchain_openai import ChatOpenAI\n",
    "from langchain_anthropic import ChatAnthropic\n",
    "from langchain_huggingface import ChatHuggingFace, HuggingFaceEndpoint"
   ]
  }
 ],
 "metadata": {
  "kernelspec": {
   "display_name": "Python 3",
   "language": "python",
   "name": "python3"
  },
  "language_info": {
   "codemirror_mode": {
    "name": "ipython",
    "version": 3
   },
   "file_extension": ".py",
   "mimetype": "text/x-python",
   "name": "python",
   "nbconvert_exporter": "python",
   "pygments_lexer": "ipython3",
   "version": "3.12.9"
  }
 },
 "nbformat": 4,
 "nbformat_minor": 5
}
