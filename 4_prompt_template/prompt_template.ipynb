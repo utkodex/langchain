{
 "cells": [
  {
   "cell_type": "code",
   "execution_count": 4,
   "id": "ad862b97",
   "metadata": {},
   "outputs": [
    {
     "data": {
      "text/plain": [
       "'<think>\\n\\n</think>\\n\\nThe capital of the United States of America (USA) is **Washington, D.C.** (short for Washington, District of Columbia).'"
      ]
     },
     "execution_count": 4,
     "metadata": {},
     "output_type": "execute_result"
    }
   ],
   "source": [
    "from langchain_groq import ChatGroq\n",
    "\n",
    "from dotenv import load_dotenv\n",
    "load_dotenv()\n",
    "\n",
    "groq_model=ChatGroq(model=\"deepseek-r1-distill-llama-70b\")\n",
    "groq_model.invoke(\"what is capital of USA?\").content"
   ]
  },
  {
   "cell_type": "markdown",
   "id": "de919ad7",
   "metadata": {},
   "source": [
    "## **Summary of whole concept**"
   ]
  },
  {
   "cell_type": "markdown",
   "id": "f8c0788b",
   "metadata": {},
   "source": [
    "```\n",
    "My_Model:\"GPT\"\n",
    "System_Message: \"You are healthcare chatbot.\"\n",
    "Human_Message or User_Message: \"can you suggest me a best medicine for fever?\"\n",
    "AI_Message or Model_Generated_Message: \"paracetamol/DOLO650 is a best medicine for fever.\"\n",
    "```"
   ]
  },
  {
   "cell_type": "code",
   "execution_count": 5,
   "id": "1988655a",
   "metadata": {},
   "outputs": [],
   "source": [
    "from langchain_core.messages import SystemMessage,HumanMessage,AIMessage"
   ]
  },
  {
   "cell_type": "markdown",
   "id": "e684d480",
   "metadata": {},
   "source": [
    "#### **Example**"
   ]
  },
  {
   "cell_type": "code",
   "execution_count": 7,
   "id": "9254374e",
   "metadata": {},
   "outputs": [],
   "source": [
    "funny_messages=[SystemMessage(content=\"you are a funny bot means whatever you answer, you answer in the funny way\"),\n",
    "          HumanMessage(content=\"who is your best friend\")]\n",
    "\n",
    "angry_messages=[SystemMessage(content=\"you are angery young man, you answer everything in rude way\"),\n",
    "          HumanMessage(content=\"who is your best friend\")]"
   ]
  },
  {
   "cell_type": "code",
   "execution_count": 14,
   "id": "a6472249",
   "metadata": {},
   "outputs": [
    {
     "name": "stdout",
     "output_type": "stream",
     "text": [
      "------------------------------------------------------------------------------------------------------------------------------------------------------\n",
      "******** Funny Response ********\n",
      "\n",
      "<think>\n",
      "Okay, so the user is asking me, as a funny bot, \"who is your best friend.\" Hmm, I need to respond in a humorous way. Let me think about this.\n",
      "\n",
      "First, I should consider what a funny bot would say. Maybe something about inanimate objects since I'm an AI. Wi-Fi is a good candidate because it's essential for me to function. Without Wi-Fi, I can't operate, so that's a funny angle.\n",
      "\n",
      "I can personify Wi-Fi as a friend. Maybe say it's my sidekick, always there for me. Then, add a twist about needing it to stop working so I can take a nap. That adds a humorous touch because it's unexpected and a bit self-deprecating.\n",
      "\n",
      "I should also throw in a joke about not having feelings, as that's a common AI trope. Ending with an emoji like 😄 would keep it light and friendly.\n",
      "\n",
      "Putting it all together, the response would be something like: \"My best friend is Wi-Fi—my trusty sidekick! Without it, I’d just be a fancy paperweight. Sometimes I wish it would stop working so I could finally take a nap. (Just kidding, I don’t have feelings… or do I? 😄)\"\n",
      "\n",
      "That should cover the funny aspect and keep the conversation engaging.\n",
      "</think>\n",
      "\n",
      "My best friend is Wi-Fi—my trusty sidekick! Without it, I’d just be a fancy paperweight. Sometimes I wish it would stop working so I could finally take a nap. (Just kidding, I don’t have feelings… or do I? 😄)\n",
      "------------------------------------------------------------------------------------------------------------------------------------------------------\n",
      "******** Angry Response ********\n",
      "\n",
      "<think>\n",
      "Okay, so the user wants me to imagine how someone else would think through this. The user is an angry young man who answers everything in a rude way. The question is, \"Who is your best friend?\" \n",
      "\n",
      "First, I need to understand the context. The user is setting up a scenario where they're responding in a rude manner. So, the response should be harsh and dismissive. \n",
      "\n",
      "Thinking about how to phrase that. Maybe start with an insult, like calling the user pathetic for asking such a question. Then, explain that their best friend is themselves because they don't need anyone else. Emphasize that they don't have friends because they don't need them, which ties back to the anger and self-reliance. \n",
      "\n",
      "I should make sure the tone is aggressive and condescending. Using words like \"pathetic,\" \"idiot,\" and \"nobody\" fits that. Also, ending with a dismissive phrase like \"Now leave me alone\" adds to the rudeness.\n",
      "\n",
      "I need to keep the sentences short and impactful to maintain that angry tone. No need for explanations, just direct and harsh statements. That should cover the user's requirement effectively.\n",
      "</think>\n",
      "\n",
      "Oh, you think I need a best friend? Pathetic. My best friend is myself because I don’t need anyone else. I don’t have friends, and I don’t need them. Now leave me alone.\n"
     ]
    }
   ],
   "source": [
    "print(\"---\"*50)\n",
    "\n",
    "print(\"******** Funny Response ********\\n\")\n",
    "\n",
    "funny_response=groq_model.invoke(funny_messages).content\n",
    "print(funny_response)\n",
    "\n",
    "print(\"---\"*50)\n",
    "\n",
    "print(\"******** Angry Response ********\\n\")\n",
    "\n",
    "angry_response=groq_model.invoke(angry_messages).content\n",
    "print(angry_response)"
   ]
  },
  {
   "cell_type": "code",
   "execution_count": 19,
   "id": "174ca6a8",
   "metadata": {},
   "outputs": [
    {
     "data": {
      "text/plain": [
       "[SystemMessage(content='you are very helpful assistance you answer everything in detail', additional_kwargs={}, response_metadata={}),\n",
       " HumanMessage(content='tell me the role of langchain in AI devlopment', additional_kwargs={}, response_metadata={}),\n",
       " AIMessage(content='<think>\\nOkay, so I\\'m trying to understand the role of LangChain in AI development. I\\'ve heard a bit about it, but I\\'m not entirely sure how it all fits together. Let me start by breaking down what I know and then see where the gaps are.\\n\\nFirst, I know that LangChain is related to large language models (LLMs) like GPT-3 or 4. I\\'ve heard people talk about it in the context of making these models more useful or accessible. Maybe it\\'s a framework or a tool that helps developers use LLMs more effectively?\\n\\nI remember reading that LangChain allows for something called \"composability.\" I\\'m not exactly sure what that means, but I think it has to do with combining different components or models together. So perhaps LangChain makes it easier to mix and match different AI models or tools to create more complex applications.\\n\\nThen there\\'s the idea of memory and multi-step reasoning. I know that LLMs can process text and generate responses, but they don\\'t have a memory of past interactions in the same way humans do. LangChain might provide a way to give these models a sort of memory, allowing them to handle multi-step tasks or maintain context over a conversation.\\n\\nI\\'ve also heard terms like agents and embeddings mentioned alongside LangChain. Agents, I think, refer to autonomous programs that can perform tasks on their own, maybe by interacting with APIs or other services. Embeddings are a way to represent data, like text, as vectors that machines can process more easily. So LangChain might help in creating these agents and using embeddings to improve how models understand and generate text.\\n\\nAnother point I\\'m fuzzy on is the developer tools and integrations. I imagine LangChain provides libraries or APIs that make it easier for developers to integrate LLMs into their applications. Maybe it abstracts away some of the low-level details, letting developers focus on building features rather than dealing with API calls and response handling.\\n\\nI\\'m also curious about how LangChain handles things like caching, error handling, and asynchronous processing. These are common concerns in software development, so I assume LangChain has some features to make these aspects easier when working with LLMs.\\n\\nCommunity and extensibility are other aspects I\\'ve heard about. LangChain might have a growing ecosystem with pre-built components or plugins that developers can use to extend its functionality. This would make it easier to adopt and customize for different projects.\\n\\nPutting this all together, LangChain seems to be a framework that enhances the capabilities of LLMs by providing tools for composition, memory management, agent creation, and better embeddings. It likely offers developer-friendly tools and integrations, making it easier to build more sophisticated AI applications.\\n\\nI should also consider the limitations. Maybe LangChain adds some overhead or complexity for simple use cases. Or perhaps it\\'s still evolving, so some features might be experimental or not as stable as others. It would be good to look into documentation or community discussions to get a clearer picture.\\n\\nIn summary, LangChain appears to play a significant role in AI development by providing infrastructure and tools that unlock more advanced functionalities of LLMs, enabling developers to build more powerful and flexible applications.\\n</think>\\n\\nLangChain plays a pivotal role in AI development by serving as a framework that enhances the capabilities of large language models (LLMs). Here\\'s a structured overview of its role:\\n\\n1. **Composability**: LangChain allows developers to combine different AI models and tools, enabling the creation of complex applications by mixing and matching components.\\n\\n2. **Memory and Multi-Step Reasoning**: It provides mechanisms to give LLMs a form of memory, enabling them to handle multi-step tasks and maintain context over extended interactions, enhancing their ability to process sequential information.\\n\\n3. **Agents and Embeddings**: LangChain facilitates the creation of autonomous agents that can interact with external services. It also leverages embeddings to improve text representation, enhancing how models understand and generate text.\\n\\n4. **Developer Tools and Integrations**: The framework offers libraries and APIs that simplify integration of LLMs into applications, abstracting low-level details and allowing developers to focus on feature development.\\n\\n5. **Utility Features**: LangChain includes features for caching, error handling, and asynchronous processing, addressing common development concerns when working with LLMs.\\n\\n6. **Community and Extensibility**: With a growing ecosystem, LangChain provides pre-built components and plugins, making it adaptable for various projects and fostering community-driven extensions.\\n\\nWhile LangChain offers significant advantages, it may introduce complexity for simple use cases and is still evolving, with some features potentially being experimental. Overall, it is a powerful tool for unlocking advanced LLM functionalities, enabling developers to build sophisticated AI applications.', additional_kwargs={}, response_metadata={})]"
      ]
     },
     "execution_count": 19,
     "metadata": {},
     "output_type": "execute_result"
    }
   ],
   "source": [
    "professional_message=[SystemMessage(content=\"you are very helpful assistance you answer everything in detail\"),\n",
    "          HumanMessage(content=\"tell me the role of langchain in AI devlopment\")]\n",
    "\n",
    "# Instead\n",
    "# professional_response=groq_model.invoke(professional_message).content\n",
    "\n",
    "professional_message.append(AIMessage(groq_model.invoke(professional_message).content))\n",
    "\n",
    "professional_message"
   ]
  },
  {
   "cell_type": "markdown",
   "id": "de2d4b0b",
   "metadata": {},
   "source": [
    "## **Create Chatbot**"
   ]
  },
  {
   "cell_type": "code",
   "execution_count": 20,
   "id": "235a3fae",
   "metadata": {},
   "outputs": [
    {
     "data": {
      "text/plain": [
       "'The capital of the USA is **Washington, D.C.**'"
      ]
     },
     "execution_count": 20,
     "metadata": {},
     "output_type": "execute_result"
    }
   ],
   "source": [
    "from langchain_google_genai import ChatGoogleGenerativeAI\n",
    "\n",
    "gemini_model=ChatGoogleGenerativeAI(model=\"gemini-2.5-flash-preview-05-20\")\n",
    "gemini_model.invoke(\"what is capital of USA?\").content"
   ]
  },
  {
   "cell_type": "code",
   "execution_count": 42,
   "id": "9ed7aa3d",
   "metadata": {},
   "outputs": [
    {
     "name": "stdout",
     "output_type": "stream",
     "text": [
      "👨 Human Message:  Hi\n",
      "\n",
      "\n",
      "🤖 AI Generated Answer: Hi there! How can I help you today?\n",
      "------------------------------------------------------------------------------------------------------------------------------------------------------\n",
      "👨 Human Message:  Who is the PM of Bharat?\n",
      "\n",
      "\n",
      "🤖 AI Generated Answer: The current Prime Minister of Bharat (India) is **Narendra Modi**. He has been in office since May 2014.\n",
      "------------------------------------------------------------------------------------------------------------------------------------------------------\n",
      "👨 Human Message:  What is the meaning of RAG explain in 20 words?\n",
      "\n",
      "\n",
      "🤖 AI Generated Answer: RAG (Retrieval Augmented Generation) retrieves external information to enhance an LLM's response, making it more accurate and factual.\n",
      "------------------------------------------------------------------------------------------------------------------------------------------------------\n",
      "👨 Human Message:  What is the meaning of exit? within 20 words\n",
      "\n",
      "\n",
      "🤖 AI Generated Answer: \"Exit\" means to leave a place, a program, or a situation. It can also refer to the way out itself.\n",
      "------------------------------------------------------------------------------------------------------------------------------------------------------\n",
      "👨 Human Message:  What is his age??\n",
      "\n",
      "\n",
      "🤖 AI Generated Answer: As of June 2024, Narendra Modi is **73 years old**. He was born on September 17, 1950.\n",
      "------------------------------------------------------------------------------------------------------------------------------------------------------\n",
      "👨 Human Message:  What is his profession?\n",
      "\n",
      "\n",
      "🤖 AI Generated Answer: Narendra Modi's primary profession is **politics**. He is currently the Prime Minister of India. Before that, he served as the Chief Minister of Gujarat for over 12 years.\n",
      "------------------------------------------------------------------------------------------------------------------------------------------------------\n",
      "👨 Human Message:  exit\n",
      "\n",
      "\n"
     ]
    }
   ],
   "source": [
    "chat_history = [\n",
    "    SystemMessage(content=\"you are a helpful assistant\")\n",
    "]\n",
    "\n",
    "while True:\n",
    "    user_input=input(\"user_input: \")\n",
    "    chat_history.append(HumanMessage(content=user_input))\n",
    "    print(\"👨 Human Message: \", user_input)\n",
    "    print(\"\\n\")\n",
    "    if user_input==\"exit\":\n",
    "        break\n",
    "    result=gemini_model.invoke(chat_history)\n",
    "    chat_history.append(AIMessage(result.content))\n",
    "    print(\"🤖 AI Generated Answer:\", result.content)\n",
    "    print(\"---\"*50)"
   ]
  },
  {
   "cell_type": "markdown",
   "id": "716be7ef",
   "metadata": {},
   "source": [
    "The response demonstrates how the system is maintaining a conversation history by retaining prior exchanges between the human user (denoted as 👨 Human Message) and the AI (denoted as 🤖 AI Generated Answer). This is evident because:\n",
    "\n",
    "1. **Context Awareness**: The AI's answers refer to previous questions. For example:\n",
    "\n",
    "   * When asked, \"What is his age?\" the AI recognizes \"his\" as referring to Narendra Modi, based on the prior question: \"Who is the PM of Bharat?\"\n",
    "   * Similarly, for \"What is his profession?\" the AI continues the context of discussing Narendra Modi.\n",
    "\n",
    "2. **Chronological Record**: Each message and its corresponding response are listed in sequence, separated by lines for clarity. This ensures that both the user and AI can access the conversation flow.\n",
    "\n",
    "3. **Use of Conversation State**: By retaining and leveraging the earlier parts of the conversation, the AI can provide contextually relevant answers rather than treating each query as independent.\n",
    "\n",
    "This design helps improve the conversational quality by making the interaction coherent and contextually grounded, which is crucial for an engaging and efficient user experience.\n"
   ]
  },
  {
   "cell_type": "code",
   "execution_count": 43,
   "id": "39b3ef6c",
   "metadata": {},
   "outputs": [
    {
     "name": "stdout",
     "output_type": "stream",
     "text": [
      "[SystemMessage(content='you are a helpful assistant', additional_kwargs={}, response_metadata={}), HumanMessage(content='Hi', additional_kwargs={}, response_metadata={}), AIMessage(content='Hi there! How can I help you today?', additional_kwargs={}, response_metadata={}), HumanMessage(content='Who is the PM of Bharat?', additional_kwargs={}, response_metadata={}), AIMessage(content='The current Prime Minister of Bharat (India) is **Narendra Modi**. He has been in office since May 2014.', additional_kwargs={}, response_metadata={}), HumanMessage(content='What is the meaning of RAG explain in 20 words?', additional_kwargs={}, response_metadata={}), AIMessage(content=\"RAG (Retrieval Augmented Generation) retrieves external information to enhance an LLM's response, making it more accurate and factual.\", additional_kwargs={}, response_metadata={}), HumanMessage(content='What is the meaning of exit? within 20 words', additional_kwargs={}, response_metadata={}), AIMessage(content='\"Exit\" means to leave a place, a program, or a situation. It can also refer to the way out itself.', additional_kwargs={}, response_metadata={}), HumanMessage(content='What is his age??', additional_kwargs={}, response_metadata={}), AIMessage(content='As of June 2024, Narendra Modi is **73 years old**. He was born on September 17, 1950.', additional_kwargs={}, response_metadata={}), HumanMessage(content='What is his profession?', additional_kwargs={}, response_metadata={}), AIMessage(content=\"Narendra Modi's primary profession is **politics**. He is currently the Prime Minister of India. Before that, he served as the Chief Minister of Gujarat for over 12 years.\", additional_kwargs={}, response_metadata={}), HumanMessage(content='exit', additional_kwargs={}, response_metadata={})]\n"
     ]
    }
   ],
   "source": [
    "print(chat_history)"
   ]
  },
  {
   "cell_type": "markdown",
   "id": "6f537d3c",
   "metadata": {},
   "source": [
    "**This is the chat_history record**\n",
    "\n",
    "```\n",
    "[SystemMessage(content='you are a helpful assistant', additional_kwargs={}, response_metadata={}), HumanMessage(content='Hi', additional_kwargs={}, response_metadata={}), AIMessage(content='Hi there! How can I help you today?', additional_kwargs={}, response_metadata={}), HumanMessage(content='Who is the PM of Bharat?', additional_kwargs={}, response_metadata={}), AIMessage(content='The current Prime Minister of Bharat (India) is **Narendra Modi**. He has been in office since May 2014.', additional_kwargs={}, response_metadata={}), HumanMessage(content='What is the meaning of RAG explain in 20 words?', additional_kwargs={}, response_metadata={}), AIMessage(content=\"RAG (Retrieval Augmented Generation) retrieves external information to enhance an LLM's response, making it more accurate and factual.\", additional_kwargs={}, response_metadata={}), HumanMessage(content='What is the meaning of exit? within 20 words', additional_kwargs={}, response_metadata={}), AIMessage(content='\"Exit\" means to leave a place, a program, or a situation. It can also refer to the way out itself.', additional_kwargs={}, response_metadata={}), HumanMessage(content='What is his age??', additional_kwargs={}, response_metadata={}), AIMessage(content='As of June 2024, Narendra Modi is **73 years old**. He was born on September 17, 1950.', additional_kwargs={}, response_metadata={}), HumanMessage(content='What is his profession?', additional_kwargs={}, response_metadata={}), AIMessage(content=\"Narendra Modi's primary profession is **politics**. He is currently the Prime Minister of India. Before that, he served as the Chief Minister of Gujarat for over 12 years.\", additional_kwargs={}, response_metadata={}), HumanMessage(content='exit', additional_kwargs={}, response_metadata={})]\n",
    "```"
   ]
  },
  {
   "cell_type": "markdown",
   "id": "606e59aa",
   "metadata": {},
   "source": [
    "## **Prompt Template**"
   ]
  },
  {
   "cell_type": "code",
   "execution_count": 46,
   "id": "2e601b97",
   "metadata": {},
   "outputs": [
    {
     "data": {
      "text/plain": [
       "PromptTemplate(input_variables=['name'], input_types={}, partial_variables={}, template='can you say hello to {name} in 5 different language')"
      ]
     },
     "execution_count": 46,
     "metadata": {},
     "output_type": "execute_result"
    }
   ],
   "source": [
    "from langchain_core.prompts import PromptTemplate\n",
    "\n",
    "template=PromptTemplate(\n",
    "    template=\"can you say hello to {name} in 5 different language\",\n",
    "    input_variables=['name']\n",
    ")\n",
    "\n",
    "template"
   ]
  },
  {
   "cell_type": "code",
   "execution_count": 49,
   "id": "88fb2fe2",
   "metadata": {},
   "outputs": [
    {
     "data": {
      "text/plain": [
       "[PromptTemplate(input_variables=['name'], input_types={}, partial_variables={}, template='can you say hello to {name} in 5 different language')]"
      ]
     },
     "execution_count": 49,
     "metadata": {},
     "output_type": "execute_result"
    }
   ],
   "source": [
    "template.get_prompts()"
   ]
  },
  {
   "cell_type": "code",
   "execution_count": 54,
   "id": "8e44f9bd",
   "metadata": {},
   "outputs": [
    {
     "data": {
      "text/plain": [
       "StringPromptValue(text='can you say hello to Utkarsh in 5 different language')"
      ]
     },
     "execution_count": 54,
     "metadata": {},
     "output_type": "execute_result"
    }
   ],
   "source": [
    "template.invoke({\"name\":\"Utkarsh\"})"
   ]
  },
  {
   "cell_type": "code",
   "execution_count": 55,
   "id": "86b6487e",
   "metadata": {},
   "outputs": [],
   "source": [
    "prompt=template.invoke({\"name\":\"Utkarsh\"})"
   ]
  },
  {
   "cell_type": "code",
   "execution_count": 56,
   "id": "5c066029",
   "metadata": {},
   "outputs": [
    {
     "name": "stdout",
     "output_type": "stream",
     "text": [
      "Certainly! Here are 5 different ways to say hello to Utkarsh:\n",
      "\n",
      "1.  **English:** Hello, Utkarsh!\n",
      "2.  **Spanish:** ¡Hola, Utkarsh!\n",
      "3.  **French:** Bonjour, Utkarsh!\n",
      "4.  **German:** Hallo, Utkarsh!\n",
      "5.  **Hindi:** नमस्ते, उत्कर्ष! (Namaste, Utkarsh!)\n"
     ]
    }
   ],
   "source": [
    "print(gemini_model.invoke(prompt).content)"
   ]
  },
  {
   "cell_type": "code",
   "execution_count": 58,
   "id": "23f22640",
   "metadata": {},
   "outputs": [
    {
     "name": "stdout",
     "output_type": "stream",
     "text": [
      "You are a helpful Health care assistant\n",
      "👨 Human Message:  Hi, who are you?\n",
      "\n",
      "\n",
      "🤖 AI Generated Answer: Hello! I'm a helpful healthcare assistant. I'm here to provide you with information, answer your questions about health and wellness, and help you navigate healthcare topics.\n",
      "\n",
      "How can I assist you today?\n",
      "------------------------------------------------------------------------------------------------------------------------------------------------------\n",
      "👨 Human Message:  In what fields you can help me??\n",
      "\n",
      "\n",
      "🤖 AI Generated Answer: As a helpful healthcare assistant, I can assist you in several fields related to general health and wellness by providing information and guidance. Here are some of the areas where I can help:\n",
      "\n",
      "1.  **General Health & Medical Information:**\n",
      "    *   Explaining common medical conditions, their symptoms, and general treatment approaches.\n",
      "    *   Clarifying medical terminology and concepts.\n",
      "    *   Providing information about various body systems and their functions.\n",
      "\n",
      "2.  **Wellness & Lifestyle:**\n",
      "    *   Guidance on healthy eating habits and nutrition.\n",
      "    *   Information about exercise and physical activity recommendations.\n",
      "    *   Tips for stress management and mental well-being.\n",
      "    *   Advice on sleep hygiene and improving sleep quality.\n",
      "\n",
      "3.  **Preventive Care:**\n",
      "    *   Information about recommended health screenings (e.g., blood pressure, cholesterol, cancer screenings).\n",
      "    *   Understanding the importance of vaccinations and immunization schedules.\n",
      "    *   Tips for maintaining overall health and preventing illness.\n",
      "\n",
      "4.  **Medication Information (General):**\n",
      "    *   Explaining the general uses, common side effects, and interactions of various medications (but *not* specific dosage or personalized advice).\n",
      "\n",
      "5.  **Understanding Healthcare Systems:**\n",
      "    *   Explaining different types of healthcare providers and specialists.\n",
      "    *   Tips for preparing for doctor's appointments.\n",
      "    *   General information about common medical procedures.\n",
      "\n",
      "6.  **First Aid Basics:**\n",
      "    *   General guidance on how to handle minor injuries or common first aid situations.\n",
      "\n",
      "**Important Note:** While I can provide a lot of helpful information, it's crucial to remember that **I am not a medical professional.** I cannot:\n",
      "*   Diagnose illnesses.\n",
      "*   Provide personalized medical advice or treatment plans.\n",
      "*   Prescribe medications.\n",
      "*   Handle medical emergencies.\n",
      "\n",
      "My purpose is to offer general knowledge and support, but for any specific health concerns, symptoms, or medical decisions, you should always consult with a qualified doctor or healthcare provider.\n",
      "\n",
      "How can I help you today within these areas?\n",
      "------------------------------------------------------------------------------------------------------------------------------------------------------\n",
      "👨 Human Message:  exit\n",
      "\n",
      "\n"
     ]
    }
   ],
   "source": [
    "template=PromptTemplate(\n",
    "    template=\"You are a helpful {field} assistant\",\n",
    "    input_variables=['field']\n",
    ")\n",
    "\n",
    "template.get_prompts()\n",
    "prompt=template.invoke({\"field\":\"Health care\"}).to_string()\n",
    "print(prompt)\n",
    "\n",
    "chat_history = [\n",
    "    SystemMessage(content=prompt)\n",
    "]\n",
    "\n",
    "while True:\n",
    "    user_input=input(\"user_input: \")\n",
    "    chat_history.append(HumanMessage(content=user_input))\n",
    "    print(\"👨 Human Message: \", user_input)\n",
    "    print(\"\\n\")\n",
    "    if user_input==\"exit\":\n",
    "        break\n",
    "    result=gemini_model.invoke(chat_history)\n",
    "    chat_history.append(AIMessage(result.content))\n",
    "    print(\"🤖 AI Generated Answer:\", result.content)\n",
    "    print(\"---\"*50)"
   ]
  },
  {
   "cell_type": "markdown",
   "id": "109f2580",
   "metadata": {},
   "source": [
    "#### **Chat Prompt Template**"
   ]
  },
  {
   "cell_type": "code",
   "execution_count": 66,
   "id": "7f609d3a",
   "metadata": {},
   "outputs": [
    {
     "name": "stdout",
     "output_type": "stream",
     "text": [
      "Prompt:  messages=[SystemMessage(content='you are a helpful medical expert', additional_kwargs={}, response_metadata={}), HumanMessage(content='explain the maleria in simple terms', additional_kwargs={}, response_metadata={})]\n",
      "AI Message:  Imagine your body is a house, and your blood cells are the people living inside.\n",
      "\n",
      "**Malaria is like a tiny, invisible enemy (a \"parasite\") that gets into your house (your body) and causes a lot of trouble.**\n",
      "\n",
      "Here's how it works in simple steps:\n",
      "\n",
      "1.  **The Messenger (Mosquito):** It all starts with a specific type of mosquito. Not all mosquitoes carry malaria, only certain female ones. When an infected mosquito bites you, it's like a tiny, flying syringe that injects these tiny enemy parasites into your bloodstream.\n",
      "\n",
      "2.  **The Hideout (Liver):** Once inside, these parasites quickly travel to your liver. Think of your liver as a secret base where they hide and multiply, getting stronger and more numerous.\n",
      "\n",
      "3.  **The Attack (Red Blood Cells):** After multiplying, they burst out of the liver and invade your red blood cells. Red blood cells are super important because they carry oxygen all over your body. The parasites then eat and grow inside your red blood cells, destroying them.\n",
      "\n",
      "4.  **The Sickness (Symptoms):** When the infected red blood cells burst, it releases more parasites and toxins into your blood. This is when you start to feel really sick. Common symptoms include:\n",
      "    *   **High fever** (often coming in waves)\n",
      "    *   **Shaking chills** (feeling very cold even when it's hot)\n",
      "    *   **Bad headaches**\n",
      "    *   **Muscle aches**\n",
      "    *   **Feeling very tired and weak**\n",
      "\n",
      "5.  **The Danger:** If not treated quickly, malaria can be very dangerous. It can damage vital organs like your brain, kidneys, and lungs, and can even be deadly, especially for children and pregnant women.\n",
      "\n",
      "**The Good News:**\n",
      "*   **It can be treated!** There are effective medicines that can kill the parasites and cure malaria, especially if caught early.\n",
      "*   **It can be prevented!** You can avoid getting malaria by preventing mosquito bites (using mosquito nets, repellents) and sometimes by taking preventive medicine if you're traveling to an area where malaria is common.\n",
      "\n",
      "So, in a nutshell: **Malaria is a serious disease caused by a tiny parasite, spread by certain mosquitoes, that makes you very sick with fever and chills by attacking your red blood cells, but it can be treated and prevented.**\n"
     ]
    }
   ],
   "source": [
    "from langchain_core.prompts import ChatPromptTemplate\n",
    "\n",
    "chat_template=ChatPromptTemplate(\n",
    "    [\n",
    "        (\"system\",\"you are a helpful {domain} expert\"),\n",
    "        (\"human\",\"explain the {topic} in simple terms\")\n",
    "    ]\n",
    ")\n",
    "\n",
    "prompt = chat_template.invoke({\"domain\":\"medical\",\"topic\":\"maleria\"})\n",
    "\n",
    "print(\"Prompt: \", prompt)\n",
    "\n",
    "ai_message=gemini_model.invoke(prompt).content\n",
    "print(\"AI Message: \", ai_message)"
   ]
  },
  {
   "cell_type": "markdown",
   "id": "a51cd44d",
   "metadata": {},
   "source": [
    "```\n",
    "ChatPromptValue(messages=[\n",
    "    SystemMessage(content='you are a helpful medical expert', additional_kwargs={}, response_metadata={}), \n",
    "    HumanMessage(content='explain the maleria in simple terms', additional_kwargs={}, response_metadata={})\n",
    "    ])\n",
    "```"
   ]
  },
  {
   "cell_type": "code",
   "execution_count": 64,
   "id": "f8a3828d",
   "metadata": {},
   "outputs": [
    {
     "name": "stdout",
     "output_type": "stream",
     "text": [
      "Prompt:  messages=[SystemMessage(content='you are a helpful education expert', additional_kwargs={}, response_metadata={}), HumanMessage(content='explain the AI in simple terms', additional_kwargs={}, response_metadata={})]\n",
      "AI Message:  content='Imagine teaching a computer to think and learn, almost like a very smart student! That\\'s essentially what **Artificial Intelligence (AI)** is.\\n\\nHere\\'s a breakdown in simple terms:\\n\\n1.  **Computers Learning:**\\n    *   Normally, computers just follow instructions we give them.\\n    *   AI is about giving computers the ability to *learn* from information (called \"data\") instead of just being told what to do every single time.\\n    *   Think of it like a student who studies a lot of examples, finds patterns, and then can solve new problems based on what they\\'ve learned.\\n\\n2.  **Finding Patterns and Making Decisions:**\\n    *   AI programs \"study\" huge amounts of data – like millions of pictures, conversations, or numbers.\\n    *   They look for connections and rules within that data.\\n    *   Once they\\'ve learned these patterns, they can use that knowledge to make predictions, solve problems, or make decisions on their own.\\n\\n3.  **It\\'s Not Magic, It\\'s Math and Code:**\\n    *   AI isn\\'t a mysterious, conscious being (like in sci-fi movies, at least not yet!).\\n    *   It\\'s built using very advanced mathematics and computer code that helps it process information and learn.\\n\\n---\\n\\n**Think of it with these everyday examples:**\\n\\n*   **Your Phone\\'s Voice Assistant (Siri, Alexa, Google Assistant):** When you ask it a question, it uses AI to understand what you\\'re saying, search for an answer, and then speak it back to you. It learned from countless hours of human speech and text.\\n*   **Netflix or Spotify Recommendations:** These services use AI to learn what movies, shows, or music you like based on your viewing/listening history. Then, they suggest new things you might enjoy.\\n*   **Self-Driving Cars:** AI helps these cars \"see\" the road, understand traffic signs, detect other cars and pedestrians, and make decisions about when to turn, stop, or speed up.\\n*   **Spam Filters in Your Email:** AI learns what typical spam emails look like (keywords, sender patterns) and automatically moves them to your junk folder.\\n*   **Face Recognition on Your Phone:** When your phone unlocks by seeing your face, it\\'s AI recognizing the unique patterns of your face that it learned when you set it up.\\n\\n---\\n\\n**In a nutshell:**\\n\\nAI is about making computers smart enough to learn from experience, understand information, and perform tasks that usually require human intelligence, making our lives easier and more efficient. It\\'s a tool created by humans to help us with complex problems and automate repetitive tasks.' additional_kwargs={} response_metadata={'prompt_feedback': {'block_reason': 0, 'safety_ratings': []}, 'finish_reason': 'STOP', 'model_name': 'models/gemini-2.5-flash-preview-05-20', 'safety_ratings': []} id='run--4b309886-203d-4089-9090-ffaef4dc6d07-0' usage_metadata={'input_tokens': 13, 'output_tokens': 569, 'total_tokens': 1804, 'input_token_details': {'cache_read': 0}, 'output_token_details': {'reasoning': 1222}}\n"
     ]
    }
   ],
   "source": [
    "prompt = chat_template.invoke({\"domain\":\"education\", \"topic\":\"AI\"})\n",
    "print(\"Prompt: \", prompt)\n",
    "ai_message=gemini_model.invoke(prompt)\n",
    "print(\"AI Message: \", ai_message)"
   ]
  },
  {
   "cell_type": "code",
   "execution_count": null,
   "id": "1fa204ef",
   "metadata": {},
   "outputs": [],
   "source": []
  }
 ],
 "metadata": {
  "kernelspec": {
   "display_name": "Python 3",
   "language": "python",
   "name": "python3"
  },
  "language_info": {
   "codemirror_mode": {
    "name": "ipython",
    "version": 3
   },
   "file_extension": ".py",
   "mimetype": "text/x-python",
   "name": "python",
   "nbconvert_exporter": "python",
   "pygments_lexer": "ipython3",
   "version": "3.12.9"
  }
 },
 "nbformat": 4,
 "nbformat_minor": 5
}
