{
 "cells": [
  {
   "cell_type": "markdown",
   "id": "d711d942",
   "metadata": {},
   "source": [
    "### **What is Chaining in LangChain?**\n",
    "\n",
    "In **LangChain**, chaining refers to connecting multiple steps or components together to create a complete pipeline or workflow. Each step takes input, processes it, and passes the output to the next step. For example:\n",
    "\n",
    "1. First, retrieve data from a database.\n",
    "2. Pass the data to a language model to generate a response.\n",
    "3. Finally, send the response to the user.\n",
    "\n",
    "This allows developers to build **complex applications** by combining simple components like prompts, tools, and chains.\n",
    "\n",
    "### **What is LCEL (LangChain Expression Language)?**\n",
    "\n",
    "LCEL (LangChain Expression Language) is a **simple syntax** used in LangChain to write expressions that dynamically generate prompts or extract data. It’s designed to make it easier to manipulate and format text or data within chains.\n",
    "\n",
    "For example:\n",
    "\n",
    "```python\n",
    "template = \"Hello, {name}! Today is {day}.\"\n",
    "filled_template = template.format(name=\"John\", day=\"Monday\")\n",
    "```\n",
    "\n",
    "LCEL helps with such dynamic behavior inside LangChain applications. It simplifies tasks like **customizing prompts** and **manipulating inputs/outputs**.\n"
   ]
  },
  {
   "cell_type": "code",
   "execution_count": 4,
   "id": "3f3782af",
   "metadata": {},
   "outputs": [
    {
     "data": {
      "text/plain": [
       "'The capital of the USA is **Washington, D.C.**'"
      ]
     },
     "execution_count": 4,
     "metadata": {},
     "output_type": "execute_result"
    }
   ],
   "source": [
    "from langchain_google_genai import ChatGoogleGenerativeAI\n",
    "\n",
    "gemini_model=ChatGoogleGenerativeAI(model=\"gemini-2.5-flash-preview-05-20\")\n",
    "gemini_model.invoke(\"what is capital of USA?\").content"
   ]
  },
  {
   "cell_type": "code",
   "execution_count": 5,
   "id": "6c069e7f",
   "metadata": {},
   "outputs": [],
   "source": [
    "from langchain_core.output_parsers import StrOutputParser\n",
    "\n",
    "parser=StrOutputParser()"
   ]
  },
  {
   "cell_type": "code",
   "execution_count": 6,
   "id": "36610336",
   "metadata": {},
   "outputs": [],
   "source": [
    "from langchain_core.prompts import PromptTemplate\n",
    "\n",
    "prompt=PromptTemplate(\n",
    "    template=\"can you give me a detail explaination of {topic}\",\n",
    "    input_variables=['topic']\n",
    ")"
   ]
  },
  {
   "cell_type": "markdown",
   "id": "8dbc1e10",
   "metadata": {},
   "source": [
    "## **Simple LLM chain**"
   ]
  },
  {
   "cell_type": "code",
   "execution_count": 7,
   "id": "9df318ce",
   "metadata": {},
   "outputs": [],
   "source": [
    "chain=prompt | gemini_model | parser"
   ]
  },
  {
   "cell_type": "code",
   "execution_count": 8,
   "id": "d5d71767",
   "metadata": {},
   "outputs": [
    {
     "data": {
      "text/plain": [
       "'Machine Learning (ML) is a subset of Artificial Intelligence (AI) that empowers computer systems to \"learn\" from data without being explicitly programmed. Instead of writing specific instructions for every possible scenario, you feed a machine learning algorithm a large amount of data, and it learns patterns, relationships, and rules from that data to perform a task or make predictions.\\n\\nLet\\'s break down this detailed explanation:\\n\\n---\\n\\n### I. The Core Idea: Learning from Data\\n\\nImagine teaching a child to recognize a cat. You don\\'t give them a list of rules like \"if it has pointy ears AND whiskers AND meows, it\\'s a cat.\" Instead, you show them many pictures of cats, and many pictures of non-cats, and say \"This is a cat,\" or \"This is not a cat.\" Over time, the child learns to identify a cat on their own, even if they see a breed they\\'ve never encountered before.\\n\\nMachine learning works in a similar way:\\n\\n1.  **Traditional Programming:** You write explicit rules.\\n    *   `IF (temperature > 30) THEN wear_shorts`\\n    *   `IF (email_contains \"viagra\" AND email_from_unknown) THEN mark_as_spam`\\n\\n2.  **Machine Learning:** You provide data and let the machine discover the rules.\\n    *   **Input:** Thousands of historical weather data points (temperature, humidity, time of year) and what people wore.\\n    *   **Output:** A model that predicts what someone *should* wear based on current weather.\\n    *   **Input:** Thousands of emails, some marked \"spam\" and some \"not spam.\"\\n    *   **Output:** A model that can automatically classify new emails as spam or not spam.\\n\\nThe key is that the \"rules\" (the learned patterns) are often too complex or subtle for a human to define manually.\\n\\n---\\n\\n### II. Why Machine Learning?\\n\\nML excels in situations where:\\n\\n*   **Patterns are complex and hard to define manually:** Think facial recognition, speech interpretation, or predicting stock prices.\\n*   **The system needs to adapt:** A spam filter needs to evolve as spammers change their tactics.\\n*   **Tasks are repetitive and data-intensive:** Automating customer support responses or quality control in manufacturing.\\n*   **Personalization is required:** Recommendation systems for movies, products, or news.\\n\\n---\\n\\n### III. How Machine Learning Works: The Process\\n\\nThe machine learning process is typically iterative and involves several key steps:\\n\\n1.  **Data Collection:** Gathering relevant and diverse data. The quantity and quality of data are paramount – \"garbage in, garbage out\" (GIGO) is a common mantra in ML.\\n    *   *Example:* Images for object recognition, text for natural language processing, numerical data for financial prediction.\\n\\n2.  **Data Preparation (Preprocessing):** This is often the most time-consuming step.\\n    *   **Cleaning:** Handling missing values, correcting errors, removing duplicates.\\n    *   **Transformation:** Converting data into a format suitable for the algorithm (e.g., scaling numerical values, encoding categorical data).\\n    *   **Feature Engineering:** Creating new features from existing ones that might improve model performance. This requires domain expertise.\\n    *   **Splitting:** Dividing the data into:\\n        *   **Training Set:** Used to train the model.\\n        *   **Validation Set:** Used to tune the model\\'s hyperparameters and prevent overfitting during training.\\n        *   **Test Set:** Used to evaluate the final model\\'s performance on unseen data.\\n\\n3.  **Model Selection:** Choosing an appropriate machine learning algorithm based on the problem type (e.g., classification, regression, clustering) and the nature of the data.\\n\\n4.  **Training the Model:** This is the \"learning\" phase.\\n    *   The chosen algorithm is fed the training data.\\n    *   It iteratively adjusts its internal parameters (weights and biases) to minimize the difference between its predictions and the actual outcomes (measured by a **loss function** or **cost function**).\\n    *   This optimization process often involves techniques like **Gradient Descent**, which helps the model find the \"best\" set of parameters.\\n\\n5.  **Model Evaluation:** Assessing how well the trained model performs.\\n    *   The model is tested on the **test set** (data it has never seen before).\\n    *   Various **metrics** are used depending on the problem (e.g., accuracy, precision, recall, F1-score for classification; Mean Squared Error, R-squared for regression).\\n    *   **Overfitting** (model performs well on training data but poorly on new data) and **Underfitting** (model is too simple and performs poorly on both) are common challenges addressed here.\\n\\n6.  **Hyperparameter Tuning:** Adjusting the settings of the learning algorithm itself (not the model\\'s internal parameters). This is often done using the validation set to find the optimal configuration.\\n\\n7.  **Deployment:** Once satisfied with the model\\'s performance, it\\'s integrated into an application or system to make real-time predictions or decisions.\\n\\n8.  **Monitoring & Maintenance:** Models can degrade over time due to changes in data patterns (data drift) or the environment. Continuous monitoring and retraining are often necessary.\\n\\n---\\n\\n### IV. Types of Machine Learning\\n\\nMachine learning algorithms are broadly categorized based on how they learn:\\n\\n1.  **Supervised Learning:**\\n    *   **Concept:** The model learns from \"labeled\" data, meaning each training example includes both the input and the correct output. It\\'s like learning with a teacher.\\n    *   **Goal:** To predict an output based on given inputs.\\n    *   **Types of Problems:**\\n        *   **Classification:** Predicting a discrete category (e.g., spam/not spam, dog/cat, fraud/not fraud).\\n        *   **Regression:** Predicting a continuous numerical value (e.g., house price, temperature, sales forecast).\\n    *   **Common Algorithms:** Linear Regression, Logistic Regression, Support Vector Machines (SVM), Decision Trees, Random Forests, K-Nearest Neighbors (KNN), Neural Networks.\\n    *   **Examples:** Image classification, medical diagnosis, sentiment analysis, predicting stock prices.\\n\\n2.  **Unsupervised Learning:**\\n    *   **Concept:** The model learns from \"unlabeled\" data, meaning only inputs are provided, and the algorithm must find hidden patterns or structures on its own. It\\'s like learning without a teacher.\\n    *   **Goal:** To discover underlying structures, patterns, or relationships within the data.\\n    *   **Types of Problems:**\\n        *   **Clustering:** Grouping similar data points together (e.g., customer segmentation).\\n        *   **Dimensionality Reduction:** Reducing the number of features while retaining important information (e.g., PCA for data visualization, noise reduction).\\n        *   **Association Rule Mining:** Discovering relationships between variables (e.g., \"people who buy bread also buy milk\").\\n    *   **Common Algorithms:** K-Means, Hierarchical Clustering, Principal Component Analysis (PCA), Apriori.\\n    *   **Examples:** Customer segmentation, anomaly detection, topic modeling in documents, gene sequence analysis.\\n\\n3.  **Reinforcement Learning (RL):**\\n    *   **Concept:** An \"agent\" learns by interacting with an \"environment.\" It performs actions and receives \"rewards\" (positive or negative) based on the outcome of those actions. The goal is to learn a policy that maximizes cumulative reward over time. It\\'s like learning through trial and error.\\n    *   **Goal:** To learn an optimal policy (a sequence of actions) to achieve a specific goal in a dynamic environment.\\n    *   **Components:** Agent, Environment, States, Actions, Rewards.\\n    *   **Common Algorithms:** Q-learning, SARSA, Deep Q-Networks (DQN).\\n    *   **Examples:** Game playing (AlphaGo, self-playing video games), robotics (learning to walk or grasp objects), autonomous driving, resource management.\\n\\n---\\n\\n### V. Key Concepts & Terminology\\n\\n*   **Dataset:** A collection of data points.\\n*   **Features:** The input variables or attributes used to make predictions (e.g., for a house price prediction, features might be size, number of bedrooms, location).\\n*   **Labels/Targets:** The output variable that the model is trying to predict (e.g., the actual price of the house). (Used in supervised learning).\\n*   **Model:** The learned function or representation that maps input features to output predictions.\\n*   **Algorithm:** The specific procedure or set of rules used by the machine to learn from data (e.g., Linear Regression is an algorithm that produces a linear model).\\n*   **Training:** The process of feeding data to the algorithm to allow it to learn the patterns.\\n*   **Prediction/Inference:** Using the trained model to make predictions on new, unseen data.\\n*   **Loss Function (Cost Function):** A mathematical function that quantifies the error or difference between the model\\'s predictions and the actual values. The goal of training is to minimize this function.\\n*   **Optimization:** The process of adjusting the model\\'s parameters to minimize the loss function.\\n*   **Hyperparameters:** Parameters that control the learning process itself, rather than being learned from the data (e.g., learning rate in neural networks, number of clusters in K-Means).\\n*   **Overfitting:** When a model learns the training data too well, including its noise, and performs poorly on new, unseen data.\\n*   **Underfitting:** When a model is too simple and cannot capture the underlying patterns in the data, performing poorly on both training and test data.\\n\\n---\\n\\n### VI. Applications of Machine Learning\\n\\nML is transforming almost every industry:\\n\\n*   **Healthcare:** Disease diagnosis, drug discovery, personalized treatment plans.\\n*   **Finance:** Fraud detection, algorithmic trading, credit scoring, risk assessment.\\n*   **Marketing & Sales:** Recommendation systems (Netflix, Amazon), customer segmentation, targeted advertising.\\n*   **Retail:** Inventory management, demand forecasting, personalized shopping experiences.\\n*   **Natural Language Processing (NLP):** Spam filtering, sentiment analysis, machine translation (Google Translate), chatbots, voice assistants (Siri, Alexa).\\n*   **Computer Vision:** Facial recognition, object detection in autonomous vehicles, medical image analysis, security surveillance.\\n*   **Autonomous Systems:** Self-driving cars, drones, robots.\\n*   **Cybersecurity:** Intrusion detection, malware classification.\\n\\n---\\n\\n### VII. Challenges and Limitations of ML\\n\\nDespite its power, ML is not a silver bullet:\\n\\n*   **Data Dependency:** Requires vast amounts of high-quality, relevant data. Biased data leads to biased models.\\n*   **Computational Resources:** Training complex models (especially deep learning) can be computationally intensive and require specialized hardware (GPUs).\\n*   **Interpretability (Explainability):** Many complex models (like deep neural networks) are \"black boxes,\" making it hard to understand *why* they made a particular decision. This is a critical issue in sensitive domains like healthcare or law.\\n*   **Overfitting/Underfitting:** Constant challenges in building robust models.\\n*   **Generalization:** Ensuring a model performs well on data it has never seen, not just the training data.\\n*   **Ethical Concerns:** Bias in algorithms, privacy issues, potential for job displacement, and misuse (e.g., deepfakes).\\n*   **Adversarial Attacks:** ML models can be fooled by subtle, malicious perturbations to input data.\\n\\n---\\n\\nIn essence, Machine Learning is about enabling machines to learn from experience, adapt to new data, and make informed decisions, revolutionizing how we interact with technology and solve complex problems across virtually every domain.'"
      ]
     },
     "execution_count": 8,
     "metadata": {},
     "output_type": "execute_result"
    }
   ],
   "source": [
    "chain.invoke({\"topic\": \"machine learning\"})"
   ]
  },
  {
   "cell_type": "code",
   "execution_count": 9,
   "id": "3a14c57f",
   "metadata": {},
   "outputs": [
    {
     "name": "stdout",
     "output_type": "stream",
     "text": [
      "      +-------------+      \n",
      "      | PromptInput |      \n",
      "      +-------------+      \n",
      "             *             \n",
      "             *             \n",
      "             *             \n",
      "    +----------------+     \n",
      "    | PromptTemplate |     \n",
      "    +----------------+     \n",
      "             *             \n",
      "             *             \n",
      "             *             \n",
      "+------------------------+ \n",
      "| ChatGoogleGenerativeAI | \n",
      "+------------------------+ \n",
      "             *             \n",
      "             *             \n",
      "             *             \n",
      "    +-----------------+    \n",
      "    | StrOutputParser |    \n",
      "    +-----------------+    \n",
      "             *             \n",
      "             *             \n",
      "             *             \n",
      "+-----------------------+  \n",
      "| StrOutputParserOutput |  \n",
      "+-----------------------+  \n"
     ]
    }
   ],
   "source": [
    "chain.get_graph().print_ascii()"
   ]
  },
  {
   "cell_type": "markdown",
   "id": "31d2836f",
   "metadata": {},
   "source": [
    "## **Sequential LLM chain**"
   ]
  },
  {
   "cell_type": "code",
   "execution_count": 12,
   "id": "4e77c6d5",
   "metadata": {},
   "outputs": [],
   "source": [
    "text= \"\"\"In November 2023, xAI began previewing Grok as a chatbot to selected people,[10] with participation in the early access program being limited to paid X Premium users.[11]\n",
    "\n",
    "It was announced that once the bot was out of early beta, it would only be available to higher tier X Premium+ subscribers.[12]\n",
    "\n",
    "At the time of the preview, xAI described the chatbot as \"a very early beta product – the best we could do with 2 months of training\" that could \"improve rapidly with each passing week\".[13]\n",
    "\n",
    "On March 11, 2024, Musk posted on X that the language model would go open source within a week. Six days later, on March 17, Grok-1 was open sourced under the Apache-2.0 license.[14][15] Disclosed were the networks architecture and its weight parameters.[16]\n",
    "\n",
    "On March 26, 2024, Musk announced that Grok would be enabled for premium subscribers, not just those on the higher-end tier, Premium+.[17]\n",
    "\n",
    "Grok-1.5\n",
    "Grok-1.5\n",
    "Developer(s)\txAI\n",
    "Initial release\tMay 15, 2024; 10 months ago\n",
    "Predecessor\tGrok-1.5\n",
    "Successor\tGrok-2\n",
    "Type\t\n",
    "Large language model\n",
    "Foundation model\n",
    "License\tProprietary\n",
    "Website\tx.ai/blog/grok-1.5\n",
    "On March 29, 2024, Grok-1.5 was announced, with \"improved reasoning capabilities\" and a context length of 128,000 tokens.[18] Grok-1.5 was released to all X Premium users on May 15, 2024.[1]\n",
    "\n",
    "On April 4, 2024, an update to X's \"Explore\" page included summaries of breaking news stories written by Grok, a task previously assigned to a human curation team.[19]\n",
    "\n",
    "On April 12, 2024, Grok-1.5 Vision (Grok-1.5V) was announced. Grok-1.5V is able to process a wide variety of visual information, including documents, diagrams, graphs, screenshots, and photographs.[20] Grok-1.5V was never released to the public.\n",
    "\n",
    "On May 4, 2024, Grok became available in the United Kingdom,[21] that being the only country in Europe to support Grok at the moment due to the impending Artificial Intelligence Act rules in the European Union. Grok was later reviewed by the EU and was released on May 16, 2024.[22]\"\"\""
   ]
  },
  {
   "cell_type": "code",
   "execution_count": 18,
   "id": "1d5b1394",
   "metadata": {},
   "outputs": [],
   "source": [
    "prompt1=PromptTemplate(\n",
    "    template=\"analysis the the given text carefully {text} and take the necessary data\",\n",
    "    input_variables=[\"text\"]\n",
    ")\n",
    "\n",
    "prompt2=PromptTemplate(\n",
    "    template=\"summarize the given text in 2 bullet points {text}\",\n",
    "    input_variables=[\"text\"]\n",
    ")"
   ]
  },
  {
   "cell_type": "code",
   "execution_count": 19,
   "id": "a7c3fcdb",
   "metadata": {},
   "outputs": [],
   "source": [
    "chain = prompt1 | gemini_model | parser | prompt2 | gemini_model | parser"
   ]
  },
  {
   "cell_type": "code",
   "execution_count": 20,
   "id": "57c60262",
   "metadata": {},
   "outputs": [
    {
     "name": "stdout",
     "output_type": "stream",
     "text": [
      "      +-------------+      \n",
      "      | PromptInput |      \n",
      "      +-------------+      \n",
      "             *             \n",
      "             *             \n",
      "             *             \n",
      "    +----------------+     \n",
      "    | PromptTemplate |     \n",
      "    +----------------+     \n",
      "             *             \n",
      "             *             \n",
      "             *             \n",
      "+------------------------+ \n",
      "| ChatGoogleGenerativeAI | \n",
      "+------------------------+ \n",
      "             *             \n",
      "             *             \n",
      "             *             \n",
      "    +-----------------+    \n",
      "    | StrOutputParser |    \n",
      "    +-----------------+    \n",
      "             *             \n",
      "             *             \n",
      "             *             \n",
      "+-----------------------+  \n",
      "| StrOutputParserOutput |  \n",
      "+-----------------------+  \n",
      "             *             \n",
      "             *             \n",
      "             *             \n",
      "    +----------------+     \n",
      "    | PromptTemplate |     \n",
      "    +----------------+     \n",
      "             *             \n",
      "             *             \n",
      "             *             \n",
      "+------------------------+ \n",
      "| ChatGoogleGenerativeAI | \n",
      "+------------------------+ \n",
      "             *             \n",
      "             *             \n",
      "             *             \n",
      "    +-----------------+    \n",
      "    | StrOutputParser |    \n",
      "    +-----------------+    \n",
      "             *             \n",
      "             *             \n",
      "             *             \n",
      "+-----------------------+  \n",
      "| StrOutputParserOutput |  \n",
      "+-----------------------+  \n"
     ]
    }
   ],
   "source": [
    "chain.get_graph().print_ascii()"
   ]
  },
  {
   "cell_type": "code",
   "execution_count": 21,
   "id": "8de6584e",
   "metadata": {},
   "outputs": [
    {
     "name": "stdout",
     "output_type": "stream",
     "text": [
      "Here are two bullet points summarizing the provided text about Grok:\n",
      "\n",
      "*   Grok underwent rapid development from an early beta in November 2023 to more advanced versions like Grok-1.5 by mid-2024, incorporating improved reasoning, expanded context, and features such as visual processing and news summarization on X.\n",
      "*   Its access strategy evolved from a restricted preview to all X Premium users, with its foundational Grok-1 model being open-sourced, and its availability strategically expanding to regions like the UK and EU.\n"
     ]
    }
   ],
   "source": [
    "result=chain.invoke({\"text\":text})\n",
    "print(result)"
   ]
  },
  {
   "cell_type": "markdown",
   "id": "fcbae123",
   "metadata": {},
   "source": [
    "## **Parallel Chain**"
   ]
  },
  {
   "cell_type": "code",
   "execution_count": 22,
   "id": "1518ce9e",
   "metadata": {},
   "outputs": [],
   "source": [
    "prompt1=PromptTemplate(\n",
    "    template=\"generate simple summary from the following text \\n {text}\",\n",
    "    input_variables=[\"text\"]\n",
    ")\n",
    "\n",
    "prompt2=PromptTemplate(\n",
    "    template=\"generate 3 question and answer from the following text \\n {text}\",\n",
    "    input_variables=[\"text\"]\n",
    "    )\n",
    "\n",
    "prompt3=PromptTemplate(\n",
    "    template=\"analysis the summary and qa and generate the 5 important quiz with 4 possible answer \\n summary: {summary}, Q&A: {qa}\",\n",
    "    input_variables=[\"summary\",\"qa\"]\n",
    ")"
   ]
  },
  {
   "cell_type": "code",
   "execution_count": 24,
   "id": "43dffbe2",
   "metadata": {},
   "outputs": [
    {
     "data": {
      "text/plain": [
       "{\n",
       "  summary: PromptTemplate(input_variables=['text'], input_types={}, partial_variables={}, template='generate simple summary from the following text \\n {text}')\n",
       "           | ChatGoogleGenerativeAI(model='models/gemini-2.5-flash-preview-05-20', google_api_key=SecretStr('**********'), client=<google.ai.generativelanguage_v1beta.services.generative_service.client.GenerativeServiceClient object at 0x000001B27CAC43E0>, default_metadata=(), model_kwargs={})\n",
       "           | StrOutputParser(),\n",
       "  qa: PromptTemplate(input_variables=['text'], input_types={}, partial_variables={}, template='generate 3 question and answer from the following text \\n {text}')\n",
       "      | ChatGoogleGenerativeAI(model='models/gemini-2.5-flash-preview-05-20', google_api_key=SecretStr('**********'), client=<google.ai.generativelanguage_v1beta.services.generative_service.client.GenerativeServiceClient object at 0x000001B27CAC43E0>, default_metadata=(), model_kwargs={})\n",
       "      | StrOutputParser()\n",
       "}"
      ]
     },
     "execution_count": 24,
     "metadata": {},
     "output_type": "execute_result"
    }
   ],
   "source": [
    "from langchain.schema.runnable import RunnableParallel\n",
    "\n",
    "parallel_chain=RunnableParallel({\n",
    "    \"summary\": prompt1 | gemini_model | parser,\n",
    "    \"qa\" : prompt2 | gemini_model | parser\n",
    "})\n",
    "\n",
    "parallel_chain"
   ]
  },
  {
   "cell_type": "code",
   "execution_count": 25,
   "id": "094139d0",
   "metadata": {},
   "outputs": [
    {
     "data": {
      "text/plain": [
       "{'summary': \"Grok, xAI's chatbot, began previewing in November 2023 to selected X Premium users. Initially intended for higher-tier subscribers, its availability expanded to all X Premium users by March 2024, when Grok-1 was also made open-source.\\n\\nThe improved Grok-1.5 was announced in March 2024 and released in May 2024. Grok also started summarizing news on X in April 2024. While a visual version (Grok-1.5V) was announced, it was never publicly released. Grok's availability expanded to the UK and later the EU in May 2024.\",\n",
       " 'qa': 'Here are 3 questions and answers from the provided text:\\n\\n1.  **Question:** When was Grok-1 open-sourced and under what license?\\n    **Answer:** Grok-1 was open-sourced on March 17, 2024, under the Apache-2.0 license.\\n\\n2.  **Question:** What new capabilities were announced with Grok-1.5?\\n    **Answer:** Grok-1.5 was announced with \"improved reasoning capabilities\" and a context length of 128,000 tokens.\\n\\n3.  **Question:** What new role did Grok take on for X\\'s \"Explore\" page starting April 4, 2024?\\n    **Answer:** On April 4, 2024, Grok began writing summaries of breaking news stories for X\\'s \"Explore\" page, a task previously assigned to a human curation team.'}"
      ]
     },
     "execution_count": 25,
     "metadata": {},
     "output_type": "execute_result"
    }
   ],
   "source": [
    "parallel_chain.invoke({\"text\":text})"
   ]
  },
  {
   "cell_type": "markdown",
   "id": "5962ca49",
   "metadata": {},
   "source": [
    "```\n",
    "{'summary': \"Grok, xAI's chatbot, began previewing in November 2023 to selected X Premium users. Initially intended for higher-tier subscribers, its availability expanded to all X Premium users by March 2024, when Grok-1 was also made open-source.\\n\\nThe improved Grok-1.5 was announced in March 2024 and released in May 2024. Grok also started summarizing news on X in April 2024. While a visual version (Grok-1.5V) was announced, it was never publicly released. Grok's availability expanded to the UK and later the EU in May 2024.\",\n",
    "\n",
    "'qa': 'Here are 3 questions and answers from the provided text:\\n\\n1.  **Question:** When was Grok-1 open-sourced and under what license?\\n    **Answer:** Grok-1 was open-sourced on March 17, 2024, under the Apache-2.0 license.\\n\\n2.  **Question:** What new capabilities were announced with Grok-1.5?\\n    **Answer:** Grok-1.5 was announced with \"improved reasoning capabilities\" and a context length of 128,000 tokens.\\n\\n3.  **Question:** What new role did Grok take on for X\\'s \"Explore\" page starting April 4, 2024?\\n    **Answer:** On April 4, 2024, Grok began writing summaries of breaking news stories for X\\'s \"Explore\" page, a task previously assigned to a human curation team.'}\n",
    "```"
   ]
  },
  {
   "cell_type": "code",
   "execution_count": 26,
   "id": "4905856e",
   "metadata": {},
   "outputs": [],
   "source": [
    "chain= parallel_chain | prompt3 | gemini_model | parser"
   ]
  },
  {
   "cell_type": "code",
   "execution_count": 27,
   "id": "33a71ac8",
   "metadata": {},
   "outputs": [
    {
     "name": "stdout",
     "output_type": "stream",
     "text": [
      "                    +---------------------------+                      \n",
      "                    | Parallel<summary,qa>Input |                      \n",
      "                    +---------------------------+                      \n",
      "                       ***                   ***                       \n",
      "                   ****                         ****                   \n",
      "                 **                                 **                 \n",
      "    +----------------+                          +----------------+     \n",
      "    | PromptTemplate |                          | PromptTemplate |     \n",
      "    +----------------+                          +----------------+     \n",
      "             *                                           *             \n",
      "             *                                           *             \n",
      "             *                                           *             \n",
      "+------------------------+                  +------------------------+ \n",
      "| ChatGoogleGenerativeAI |                  | ChatGoogleGenerativeAI | \n",
      "+------------------------+                  +------------------------+ \n",
      "             *                                           *             \n",
      "             *                                           *             \n",
      "             *                                           *             \n",
      "    +-----------------+                         +-----------------+    \n",
      "    | StrOutputParser |                         | StrOutputParser |    \n",
      "    +-----------------+                         +-----------------+    \n",
      "                       ***                   ***                       \n",
      "                          ****           ****                          \n",
      "                              **       **                              \n",
      "                    +----------------------------+                     \n",
      "                    | Parallel<summary,qa>Output |                     \n",
      "                    +----------------------------+                     \n",
      "                                   *                                   \n",
      "                                   *                                   \n",
      "                                   *                                   \n",
      "                          +----------------+                           \n",
      "                          | PromptTemplate |                           \n",
      "                          +----------------+                           \n",
      "                                   *                                   \n",
      "                                   *                                   \n",
      "                                   *                                   \n",
      "                      +------------------------+                       \n",
      "                      | ChatGoogleGenerativeAI |                       \n",
      "                      +------------------------+                       \n",
      "                                   *                                   \n",
      "                                   *                                   \n",
      "                                   *                                   \n",
      "                          +-----------------+                          \n",
      "                          | StrOutputParser |                          \n",
      "                          +-----------------+                          \n",
      "                                   *                                   \n",
      "                                   *                                   \n",
      "                                   *                                   \n",
      "                      +-----------------------+                        \n",
      "                      | StrOutputParserOutput |                        \n",
      "                      +-----------------------+                        \n"
     ]
    }
   ],
   "source": [
    "chain.get_graph().print_ascii()"
   ]
  },
  {
   "cell_type": "code",
   "execution_count": 28,
   "id": "f5f85423",
   "metadata": {},
   "outputs": [],
   "source": [
    "text=\"\"\"AI agent or simply agent), expands this concept by proactively pursuing goals, making decisions, and taking actions over extended periods, thereby exemplifying a novel form of digital agency.[1]\n",
    "\n",
    "Intelligent agents can range from simple to highly complex. A basic thermostat or control system is considered an intelligent agent, as is a human being, or any other system that meets the same criteria—such as a firm, a state, or a biome.[2]\n",
    "\n",
    "Intelligent agents operate based on an objective function, which encapsulates their goals. They are designed to create and execute plans that maximize the expected value of this function upon completion.[3] For example, a reinforcement learning agent has a reward function, which allows programmers to shape its desired behavior.[4] Similarly, an evolutionary algorithm's behavior is guided by a fitness function.[5]\n",
    "\n",
    "Intelligent agents in artificial intelligence are closely related to agents in economics, and versions of the intelligent agent paradigm are studied in cognitive science, ethics, and the philosophy of practical reason, as well as in many interdisciplinary socio-cognitive modeling and computer social simulations.\n",
    "\n",
    "Intelligent agents are often described schematically as abstract functional systems similar to computer programs. To distinguish theoretical models from real-world implementations, abstract descriptions of intelligent agents are called abstract intelligent agents. Intelligent agents are also closely related to software agents—autonomous computer programs that carry out tasks on behalf of users. They are also referred to using a term borrowed from economics: a \"rational agent\".[2]\"\"\""
   ]
  },
  {
   "cell_type": "code",
   "execution_count": 29,
   "id": "b31b4d54",
   "metadata": {},
   "outputs": [
    {
     "name": "stdout",
     "output_type": "stream",
     "text": [
      "Here are 5 important quiz questions with 4 possible answers each, based on the provided summary and Q&A:\n",
      "\n",
      "---\n",
      "\n",
      "**Quiz on AI Agents**\n",
      "\n",
      "1.  **What is the primary characteristic that defines an AI agent?**\n",
      "    a) Its ability to process large amounts of data quickly.\n",
      "    b) Its capacity to proactively pursue goals, make decisions, and take actions over time.\n",
      "    c) Its reliance on human input for every action.\n",
      "    d) Its exclusive application in complex, human-like scenarios.\n",
      "\n",
      "2.  **How do intelligent agents primarily operate to achieve their goals?**\n",
      "    a) By reacting randomly to external stimuli until a goal is met.\n",
      "    b) By being directly controlled by a human operator for every step.\n",
      "    c) By creating and executing plans designed to maximize the expected value of an objective function.\n",
      "    d) By passively waiting for instructions before taking any action.\n",
      "\n",
      "3.  **Which of the following best represents the range of complexity for AI agents, from simple to complex?**\n",
      "    a) A calculator and a web browser.\n",
      "    b) A basic thermostat and a human being.\n",
      "    c) A smartphone and a self-driving car.\n",
      "    d) A simple alarm clock and a complex database.\n",
      "\n",
      "4.  **AI agents are also commonly referred to by what other term?**\n",
      "    a) Static systems\n",
      "    b) Passive entities\n",
      "    c) Rational agents\n",
      "    d) Neural networks\n",
      "\n",
      "5.  **Beyond the field of Artificial Intelligence, in which other disciplines are AI agents also studied?**\n",
      "    a) Astrophysics and geology\n",
      "    b) Linguistics and art history\n",
      "    c) Economics and cognitive science\n",
      "    d) Mechanical engineering and chemistry\n",
      "\n",
      "---\n",
      "\n",
      "**Answer Key:**\n",
      "1.  b\n",
      "2.  c\n",
      "3.  b\n",
      "4.  c\n",
      "5.  c\n"
     ]
    }
   ],
   "source": [
    "result=chain.invoke({\"text\": text})\n",
    "\n",
    "print(result)"
   ]
  },
  {
   "cell_type": "code",
   "execution_count": null,
   "id": "a1cf6f4f",
   "metadata": {},
   "outputs": [],
   "source": []
  }
 ],
 "metadata": {
  "kernelspec": {
   "display_name": "Python 3",
   "language": "python",
   "name": "python3"
  },
  "language_info": {
   "codemirror_mode": {
    "name": "ipython",
    "version": 3
   },
   "file_extension": ".py",
   "mimetype": "text/x-python",
   "name": "python",
   "nbconvert_exporter": "python",
   "pygments_lexer": "ipython3",
   "version": "3.12.9"
  }
 },
 "nbformat": 4,
 "nbformat_minor": 5
}
