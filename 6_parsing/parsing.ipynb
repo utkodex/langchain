{
 "cells": [
  {
   "cell_type": "markdown",
   "id": "dfa516ee",
   "metadata": {},
   "source": [
    "## **Parsing**"
   ]
  },
  {
   "cell_type": "code",
   "execution_count": 2,
   "id": "35f2651a",
   "metadata": {},
   "outputs": [
    {
     "data": {
      "text/plain": [
       "'The capital of the United States of America (USA) is **Washington, D.C.** (short for District of Columbia).'"
      ]
     },
     "execution_count": 2,
     "metadata": {},
     "output_type": "execute_result"
    }
   ],
   "source": [
    "from langchain_groq import ChatGroq\n",
    "\n",
    "groq_model=ChatGroq(model=\"llama-3.3-70b-versatile\")\n",
    "groq_model.invoke(\"what is capital of USA?\").content"
   ]
  },
  {
   "cell_type": "code",
   "execution_count": 3,
   "id": "cf717091",
   "metadata": {},
   "outputs": [],
   "source": [
    "text=\"\"\"In November 2023, xAI began previewing Grok as a chatbot to selected people,[10] with participation in the early access program being limited to paid X Premium users.[11]\n",
    "\n",
    "It was announced that once the bot was out of early beta, it would only be available to higher tier X Premium+ subscribers.[12]\n",
    "\n",
    "At the time of the preview, xAI described the chatbot as \"a very early beta product – the best we could do with 2 months of training\" that could \"improve rapidly with each passing week\".[13]\n",
    "\n",
    "On March 11, 2024, Musk posted on X that the language model would go open source within a week. Six days later, on March 17, Grok-1 was open sourced under the Apache-2.0 license.[14][15] Disclosed were the networks architecture and its weight parameters.[16]\n",
    "\n",
    "On March 26, 2024, Musk announced that Grok would be enabled for premium subscribers, not just those on the higher-end tier, Premium+.[17]\n",
    "\n",
    "Grok-1.5\n",
    "Grok-1.5\n",
    "Developer(s)\txAI\n",
    "Initial release\tMay 15, 2024; 10 months ago\n",
    "Predecessor\tGrok-1.5\n",
    "Successor\tGrok-2\n",
    "Type\t\n",
    "Large language model\n",
    "Foundation model\n",
    "License\tProprietary\n",
    "Website\tx.ai/blog/grok-1.5\n",
    "On March 29, 2024, Grok-1.5 was announced, with \"improved reasoning capabilities\" and a context length of 128,000 tokens.[18] Grok-1.5 was released to all X Premium users on May 15, 2024.[1]\n",
    "\n",
    "On April 4, 2024, an update to X's \"Explore\" page included summaries of breaking news stories written by Grok, a task previously assigned to a human curation team.[19]\n",
    "\n",
    "On April 12, 2024, Grok-1.5 Vision (Grok-1.5V) was announced. Grok-1.5V is able to process a wide variety of visual information, including documents, diagrams, graphs, screenshots, and photographs.[20] Grok-1.5V was never released to the public.\n",
    "\n",
    "On May 4, 2024, Grok became available in the United Kingdom,[21] that being the only country in Europe to support Grok at the moment due to the impending Artificial Intelligence Act rules in the European Union. Grok was later reviewed by the EU and was released on May 16, 2024.[22]\"\"\""
   ]
  },
  {
   "cell_type": "code",
   "execution_count": 4,
   "id": "14da452b",
   "metadata": {},
   "outputs": [],
   "source": [
    "from langchain_core.prompts import PromptTemplate\n",
    "\n",
    "template=PromptTemplate(\n",
    "    template=\"generate a prices 3 point summary from given text /n {text}\",\n",
    "    input_variables=[\"text\"]\n",
    ")"
   ]
  },
  {
   "cell_type": "markdown",
   "id": "86656b6f",
   "metadata": {},
   "source": [
    "**Simple Chain**"
   ]
  },
  {
   "cell_type": "code",
   "execution_count": 8,
   "id": "b5d40a14",
   "metadata": {},
   "outputs": [
    {
     "name": "stdout",
     "output_type": "stream",
     "text": [
      "content='Here is a 3-point summary of the prices of Grok:\\n\\n1. **Initial Access**: Initially, access to Grok was limited to paid X Premium users who participated in the early access program.\\n2. **Tiered Access**: It was announced that once Grok was out of early beta, it would only be available to higher-tier X Premium+ subscribers, but this decision was later reversed, making it available to all X Premium users.\\n3. **Current Availability**: Grok is currently available to all X Premium users, with no mention of additional costs or tiered pricing, although the exact pricing of X Premium is not specified in the provided text.' additional_kwargs={} response_metadata={'token_usage': {'completion_tokens': 134, 'prompt_tokens': 590, 'total_tokens': 724, 'completion_time': 0.795733098, 'prompt_time': 0.049924395, 'queue_time': 0.054279865000000004, 'total_time': 0.845657493}, 'model_name': 'llama-3.3-70b-versatile', 'system_fingerprint': 'fp_6507bcfb6f', 'finish_reason': 'stop', 'logprobs': None} id='run--45a9d39e-2076-443f-9a62-1158bb05931f-0' usage_metadata={'input_tokens': 590, 'output_tokens': 134, 'total_tokens': 724}\n"
     ]
    }
   ],
   "source": [
    "chain = template | groq_model\n",
    "chain=chain.invoke({\"text\":text})\n",
    "print(chain)"
   ]
  },
  {
   "cell_type": "markdown",
   "id": "b3b70568",
   "metadata": {},
   "source": [
    "**Parsed Chain**"
   ]
  },
  {
   "cell_type": "code",
   "execution_count": 9,
   "id": "19f822d6",
   "metadata": {},
   "outputs": [
    {
     "name": "stdout",
     "output_type": "stream",
     "text": [
      "Here is a 3-point summary of the prices related to Grok:\n",
      "\n",
      "1. **Initial Access**: Initially, access to Grok was limited to paid X Premium users who participated in the early access program.\n",
      "2. **Tiered Access**: It was announced that once Grok was out of early beta, it would only be available to higher-tier X Premium+ subscribers, but this decision was later reversed, making it available to all X Premium users.\n",
      "3. **Current Availability**: As of May 15, 2024, Grok-1.5 is available to all X Premium users, with no specific mention of additional costs or tiered pricing for access to the chatbot.\n"
     ]
    }
   ],
   "source": [
    "from langchain_core.output_parsers import StrOutputParser\n",
    "parser = StrOutputParser()\n",
    "\n",
    "chain_parser = template | groq_model | parser\n",
    "chain_parser=chain_parser.invoke({\"text\":text})\n",
    "print(chain_parser)"
   ]
  },
  {
   "cell_type": "markdown",
   "id": "19f52b4d",
   "metadata": {},
   "source": [
    "Check out the Change in response formate\n",
    "\n",
    "---\n",
    "\n",
    "**👉 Response from Simple Chain**\n",
    "\n",
    "content='Here is a 3-point summary of the prices of Grok:\\n\\n1. **Initial Access**: Initially, access to Grok was limited to paid X Premium users who participated in the early access program.\\n2. **Tiered Access**: It was announced that once Grok was out of early beta, it would only be available to higher-tier X Premium+ subscribers, but this decision was later reversed, making it available to all X Premium users.\\n3. **Current Availability**: Grok is currently available to all X Premium users, with no mention of additional costs or tiered pricing, although the exact pricing of X Premium is not specified in the provided text.' additional_kwargs={} response_metadata={'token_usage': {'completion_tokens': 134, 'prompt_tokens': 590, 'total_tokens': 724, 'completion_time': 0.795733098, 'prompt_time': 0.049924395, 'queue_time': 0.054279865000000004, 'total_time': 0.845657493}, 'model_name': 'llama-3.3-70b-versatile', 'system_fingerprint': 'fp_6507bcfb6f', 'finish_reason': 'stop', 'logprobs': None} id='run--45a9d39e-2076-443f-9a62-1158bb05931f-0' usage_metadata={'input_tokens': 590, 'output_tokens': 134, 'total_tokens': 724}\n",
    "\n",
    "---\n",
    "\n",
    "**👉 Response from Parsed Chain**\n",
    "\n",
    "Here is a 3-point summary of the prices related to Grok:\n",
    "\n",
    "1. **Initial Access**: Initially, access to Grok was limited to paid X Premium users who participated in the early access program.\n",
    "2. **Tiered Access**: It was announced that once Grok was out of early beta, it would only be available to higher-tier X Premium+ subscribers, but this decision was later reversed, making it available to all X Premium users.\n",
    "3. **Current Availability**: As of May 15, 2024, Grok-1.5 is available to all X Premium users, with no specific mention of additional costs or tiered pricing for access to the chatbot."
   ]
  },
  {
   "cell_type": "markdown",
   "id": "3e11e7e4",
   "metadata": {},
   "source": [
    "## **JSON output Parser**"
   ]
  },
  {
   "cell_type": "code",
   "execution_count": 10,
   "id": "ec7765f8",
   "metadata": {},
   "outputs": [],
   "source": [
    "from langchain_core.output_parsers import JsonOutputParser\n",
    "\n",
    "parser=JsonOutputParser()"
   ]
  },
  {
   "cell_type": "code",
   "execution_count": 11,
   "id": "45f61f62",
   "metadata": {},
   "outputs": [
    {
     "data": {
      "text/plain": [
       "'Return a JSON object.'"
      ]
     },
     "execution_count": 11,
     "metadata": {},
     "output_type": "execute_result"
    }
   ],
   "source": [
    "parser.get_format_instructions()"
   ]
  },
  {
   "cell_type": "markdown",
   "id": "22643d1b",
   "metadata": {},
   "source": [
    "#### **Example 1**"
   ]
  },
  {
   "cell_type": "code",
   "execution_count": 48,
   "id": "8e699770",
   "metadata": {},
   "outputs": [],
   "source": [
    "template=PromptTemplate(\n",
    "    template=\"give me name, age and city from the provided text {text} \\n {format_instructions}\" ,\n",
    "    input_variables=['text'],\n",
    "    partial_variables={\"format_instructions\": parser.get_format_instructions()}\n",
    ")\n",
    "\n",
    "text=\"\"\"hi my name is Utkarsh Sinha my age is 29 and i am belong to bengaluru\"\"\""
   ]
  },
  {
   "cell_type": "markdown",
   "metadata": {},
   "source": [
    "**1️⃣⏩ Method One**"
   ]
  },
  {
   "cell_type": "code",
   "execution_count": 49,
   "id": "bff3c355",
   "metadata": {},
   "outputs": [
    {
     "name": "stdout",
     "output_type": "stream",
     "text": [
      "Here's a JSON object with the requested information:\n",
      "\n",
      "```json\n",
      "{\n",
      "  \"name\": \"Utkarsh Sinha\",\n",
      "  \"age\": 29,\n",
      "  \"city\": \"Bengaluru\"\n",
      "}\n",
      "```\n"
     ]
    }
   ],
   "source": [
    "prompt=template.format(text=text)\n",
    "prompt\n",
    "\n",
    "result=groq_model.invoke(prompt)\n",
    "print(result.content)"
   ]
  },
  {
   "cell_type": "code",
   "execution_count": 50,
   "id": "d5d3930a",
   "metadata": {},
   "outputs": [
    {
     "name": "stdout",
     "output_type": "stream",
     "text": [
      "{'name': 'Utkarsh Sinha', 'age': 29, 'city': 'Bengaluru'}\n"
     ]
    }
   ],
   "source": [
    "result=parser.parse(result.content)\n",
    "print(result)"
   ]
  },
  {
   "cell_type": "code",
   "execution_count": 51,
   "id": "439b5df7",
   "metadata": {},
   "outputs": [
    {
     "name": "stdout",
     "output_type": "stream",
     "text": [
      "Utkarsh Sinha\n",
      "29\n",
      "Bengaluru\n"
     ]
    }
   ],
   "source": [
    "name=result[\"name\"]\n",
    "age=result[\"age\"]\n",
    "city=result[\"city\"]\n",
    "\n",
    "print(name)\n",
    "print(age)\n",
    "print(city)"
   ]
  },
  {
   "cell_type": "markdown",
   "id": "3a2e239f",
   "metadata": {},
   "source": [
    "**2️⃣⏩ Method Two**"
   ]
  },
  {
   "cell_type": "code",
   "execution_count": 52,
   "id": "d133f973",
   "metadata": {},
   "outputs": [
    {
     "name": "stdout",
     "output_type": "stream",
     "text": [
      "{'name': 'Utkarsh Sinha', 'age': 29, 'city': 'Bengaluru'}\n"
     ]
    }
   ],
   "source": [
    "chain= template | groq_model | parser\n",
    "chain_result=chain.invoke({\"text\": text})\n",
    "print(chain_result)"
   ]
  },
  {
   "cell_type": "code",
   "execution_count": 53,
   "id": "2850803e",
   "metadata": {},
   "outputs": [
    {
     "name": "stdout",
     "output_type": "stream",
     "text": [
      "Utkarsh Sinha\n",
      "29\n",
      "Bengaluru\n"
     ]
    }
   ],
   "source": [
    "name=chain_result[\"name\"]\n",
    "age=chain_result[\"age\"]\n",
    "city=chain_result[\"city\"]\n",
    "\n",
    "print(name)\n",
    "print(age)\n",
    "print(city)"
   ]
  },
  {
   "cell_type": "markdown",
   "id": "b83b7218",
   "metadata": {},
   "source": [
    "#### **Example Two**"
   ]
  },
  {
   "cell_type": "code",
   "execution_count": 55,
   "id": "572bdd9a",
   "metadata": {},
   "outputs": [],
   "source": [
    "topic = \"\"\"AI agent or simply agent), expands this concept by proactively pursuing goals, making decisions, and taking actions over extended periods, thereby exemplifying a novel form of digital agency.[1]\n",
    "\n",
    "Intelligent agents can range from simple to highly complex. A basic thermostat or control system is considered an intelligent agent, as is a human being, or any other system that meets the same criteria—such as a firm, a state, or a biome.[2]\n",
    "\n",
    "Intelligent agents operate based on an objective function, which encapsulates their goals. They are designed to create and execute plans that maximize the expected value of this function upon completion.[3] For example, a reinforcement learning agent has a reward function, which allows programmers to shape its desired behavior.[4] Similarly, an evolutionary algorithm's behavior is guided by a fitness function.[5]\n",
    "\n",
    "Intelligent agents in artificial intelligence are closely related to agents in economics, and versions of the intelligent agent paradigm are studied in cognitive science, ethics, and the philosophy of practical reason, as well as in many interdisciplinary socio-cognitive modeling and computer social simulations.\n",
    "\n",
    "Intelligent agents are often described schematically as abstract functional systems similar to computer programs. To distinguish theoretical models from real-world implementations, abstract descriptions of intelligent agents are called abstract intelligent agents. Intelligent agents are also closely related to software agents—autonomous computer programs that carry out tasks on behalf of users. They are also referred to using a term borrowed from economics: a \"rational agent\".[2]\"\"\""
   ]
  },
  {
   "cell_type": "code",
   "execution_count": 56,
   "id": "a0149421",
   "metadata": {},
   "outputs": [],
   "source": [
    "template2=PromptTemplate(\n",
    "    template='Give me 5 facts about {topic} \\n {format_instruction}',\n",
    "    input_variables=['topic'],\n",
    "    partial_variables={'format_instruction': parser.get_format_instructions()}\n",
    ")"
   ]
  },
  {
   "cell_type": "code",
   "execution_count": 59,
   "id": "a1f79e8b",
   "metadata": {},
   "outputs": [
    {
     "data": {
      "text/plain": [
       "{'facts': [{'id': 1,\n",
       "   'description': 'Intelligent agents can range from simple to highly complex, including systems like thermostats, control systems, and even human beings.'},\n",
       "  {'id': 2,\n",
       "   'description': 'Intelligent agents operate based on an objective function that encapsulates their goals and create plans to maximize the expected value of this function.'},\n",
       "  {'id': 3,\n",
       "   'description': 'Intelligent agents can be guided by various functions, such as reward functions in reinforcement learning or fitness functions in evolutionary algorithms.'},\n",
       "  {'id': 4,\n",
       "   'description': 'The concept of intelligent agents is studied in multiple fields, including artificial intelligence, economics, cognitive science, ethics, and philosophy of practical reason.'},\n",
       "  {'id': 5,\n",
       "   'description': 'Intelligent agents can be described as abstract functional systems, similar to computer programs, and are closely related to software agents and the concept of rational agents in economics.'}]}"
      ]
     },
     "execution_count": 59,
     "metadata": {},
     "output_type": "execute_result"
    }
   ],
   "source": [
    "chain= template2 | groq_model | parser\n",
    "\n",
    "chain.invoke({\"topic\": topic})"
   ]
  },
  {
   "cell_type": "markdown",
   "id": "258f7e19",
   "metadata": {},
   "source": [
    "## **Generate a Strcuture output**"
   ]
  },
  {
   "cell_type": "code",
   "execution_count": 60,
   "id": "21ed5726",
   "metadata": {},
   "outputs": [],
   "source": [
    "from langchain.output_parsers import StructuredOutputParser, ResponseSchema"
   ]
  },
  {
   "cell_type": "code",
   "execution_count": 67,
   "id": "438cba5a",
   "metadata": {},
   "outputs": [],
   "source": [
    "schema=[\n",
    "    ResponseSchema(name=\"company_name\", description=\"Name of compamy providing job in Job description\"),\n",
    "    ResponseSchema(name=\"Position\", description=\"Position open in job deacription\"),\n",
    "    ResponseSchema(name=\"salary\", description=\"Salary mentioned\"),\n",
    "    ResponseSchema(name=\"qualification\", description=\"Qualification mentioned in job description\"),\n",
    "    ResponseSchema(name=\"Experience\", description=\"Experience mentioned in job description\"),\n",
    "    ResponseSchema(name=\"Other Information\", description=\"Other information mentioned in job description\"),\n",
    "]\n",
    "\n",
    "parser=StructuredOutputParser.from_response_schemas(schema)"
   ]
  },
  {
   "cell_type": "code",
   "execution_count": 68,
   "id": "2d6c9792",
   "metadata": {},
   "outputs": [],
   "source": [
    "job_description = \"\"\"\n",
    "Lead India logo\n",
    "Lead India\n",
    "Share\n",
    "Show more options\n",
    "Back End Developer Trainee\n",
    "India · 6 hours ago · Over 100 people clicked apply\n",
    "Promoted by hirer · Responses managed off LinkedIn\n",
    "\n",
    "\n",
    " RemoteMatches your job preferences, workplace type is Remote.\n",
    "Full-time\n",
    "0 of 8 skills matchRequired skills are missing from your profile\n",
    "\n",
    "Apply\n",
    "\n",
    "Save\n",
    "Save Back End Developer Trainee at Lead India\n",
    "Back End Developer Trainee\n",
    "Lead India · India (Remote)\n",
    "\n",
    "Apply\n",
    "\n",
    "Save\n",
    "Save Back End Developer Trainee at Lead India\n",
    "Show more options\n",
    "How your profile and resume fit this job\n",
    "Get AI-powered advice on this job and more exclusive features with Premium. Try Premium for ₹0\n",
    "\n",
    "\n",
    "\n",
    "Tailor my resume to this job\n",
    "\n",
    "Am I a good fit for this job?\n",
    "\n",
    "How can I best position myself for this job?\n",
    "\n",
    "About the job\n",
    "Job Title: Back End Developer Trainee\n",
    "Location: Remote\n",
    "Job Type: Internship (Full-Time)\n",
    "Duration: 1–3 Months\n",
    "Stipend: ₹25,000/month\n",
    "Department: Software Development / Engineering\n",
    "Job Summary:\n",
    "\n",
    "We are looking for a highly motivated and technically driven Back End Developer Trainee to join our remote team. This internship is ideal for individuals with a strong foundation in server-side development who are eager to gain hands-on experience working on real-world applications, APIs, and databases.\n",
    "Key Responsibilities:\n",
    "\n",
    "Assist in building and maintaining server-side logic, APIs, and databases\n",
    "Write clean, scalable, and efficient code using languages such as Python, Node.js, or Java\n",
    "Help integrate front-end elements with server-side logic\n",
    "Work with databases (e.g., MySQL, PostgreSQL, MongoDB) to store and manage data\n",
    "Participate in testing, debugging, and performance tuning of backend systems\n",
    "Document code and backend processes for clarity and maintainability\n",
    "Qualifications:\n",
    "\n",
    "Bachelor’s degree (or final year student) in Computer Science, IT, or a related field\n",
    "Solid understanding of one or more backend languages (Python, Node.js, Java, etc.)\n",
    "Basic knowledge of RESTful API design and development\n",
    "Familiarity with relational and/or NoSQL databases\n",
    "Good problem-solving and analytical skills\n",
    "Ability to work independently in a remote environment\n",
    "Preferred Skills (Nice to Have):\n",
    "\n",
    "Experience with version control systems like Git\n",
    "Familiarity with frameworks (e.g., Express.js, Django, Spring Boot)\n",
    "Understanding of authentication, authorization, and secure coding practices\n",
    "Exposure to Docker, cloud platforms, or CI/CD pipelines is a plus\n",
    "What We Offer:\n",
    "\n",
    "Monthly stipend of ₹25,000\n",
    "Remote work opportunity\n",
    "Mentorship and training from experienced backend engineers\n",
    "Involvement in real-world projects and live systems\n",
    "Certificate of Completion\n",
    "Potential for a full-time opportunity based on performance\n",
    "\"\"\""
   ]
  },
  {
   "cell_type": "code",
   "execution_count": 69,
   "id": "2ea3ed5e",
   "metadata": {},
   "outputs": [],
   "source": [
    "template3 = PromptTemplate(\n",
    "    template='Give info from {job_description} \\n {format_instruction}',\n",
    "    input_variables=['job_description'],\n",
    "    partial_variables={'format_instruction':parser.get_format_instructions()}\n",
    ")"
   ]
  },
  {
   "cell_type": "code",
   "execution_count": 70,
   "id": "886fa74b",
   "metadata": {},
   "outputs": [
    {
     "data": {
      "text/plain": [
       "{'company_name': 'Lead India',\n",
       " 'Position': 'Back End Developer Trainee',\n",
       " 'salary': '₹25,000/month',\n",
       " 'qualification': 'Bachelor’s degree (or final year student) in Computer Science, IT, or a related field',\n",
       " 'Experience': 'No experience mentioned, but preferable skills include experience with version control systems like Git, familiarity with frameworks, and understanding of authentication, authorization, and secure coding practices',\n",
       " 'Other Information': 'Remote work opportunity, 1-3 months duration, full-time internship, mentorship and training from experienced backend engineers, involvement in real-world projects and live systems, certificate of completion, and potential for a full-time opportunity based on performance'}"
      ]
     },
     "execution_count": 70,
     "metadata": {},
     "output_type": "execute_result"
    }
   ],
   "source": [
    "chain = template3 | groq_model | parser\n",
    "chain.invoke({\"job_description\": job_description})"
   ]
  },
  {
   "cell_type": "markdown",
   "id": "639d442d",
   "metadata": {},
   "source": [
    "## **Pydantic Output Parse**"
   ]
  },
  {
   "cell_type": "code",
   "execution_count": 72,
   "id": "1bc0f6d0",
   "metadata": {},
   "outputs": [],
   "source": [
    "from pydantic import BaseModel, Field\n",
    "from langchain_core.output_parsers import PydanticOutputParser"
   ]
  },
  {
   "cell_type": "code",
   "execution_count": 73,
   "id": "cd585e31",
   "metadata": {},
   "outputs": [],
   "source": [
    "class Job_description(BaseModel):\n",
    "    company_name:str=Field(description=\"name of the company\")\n",
    "    salary:int=Field(gt=18000,description=\"Salary in Job Description\")\n",
    "    remote:bool=Field(description=\"remote or not\")"
   ]
  },
  {
   "cell_type": "code",
   "execution_count": 74,
   "id": "36225db8",
   "metadata": {},
   "outputs": [
    {
     "name": "stdout",
     "output_type": "stream",
     "text": [
      "The output should be formatted as a JSON instance that conforms to the JSON schema below.\n",
      "\n",
      "As an example, for the schema {\"properties\": {\"foo\": {\"title\": \"Foo\", \"description\": \"a list of strings\", \"type\": \"array\", \"items\": {\"type\": \"string\"}}}, \"required\": [\"foo\"]}\n",
      "the object {\"foo\": [\"bar\", \"baz\"]} is a well-formatted instance of the schema. The object {\"properties\": {\"foo\": [\"bar\", \"baz\"]}} is not well-formatted.\n",
      "\n",
      "Here is the output schema:\n",
      "```\n",
      "{\"properties\": {\"company_name\": {\"description\": \"name of the company\", \"title\": \"Company Name\", \"type\": \"string\"}, \"salary\": {\"description\": \"Salary in Job Description\", \"exclusiveMinimum\": 18000, \"title\": \"Salary\", \"type\": \"integer\"}, \"remote\": {\"description\": \"remote or not\", \"title\": \"Remote\", \"type\": \"boolean\"}}, \"required\": [\"company_name\", \"salary\", \"remote\"]}\n",
      "```\n"
     ]
    }
   ],
   "source": [
    "parser=PydanticOutputParser(pydantic_object=Job_description)\n",
    "\n",
    "print(parser.get_format_instructions())"
   ]
  },
  {
   "cell_type": "code",
   "execution_count": 75,
   "id": "63b220da",
   "metadata": {},
   "outputs": [],
   "source": [
    "template = PromptTemplate(\n",
    "    template='Generate the infomation {job_description} person \\n {format_instruction}',\n",
    "    input_variables=['place'],\n",
    "    partial_variables={'format_instruction':parser.get_format_instructions()}\n",
    ")"
   ]
  },
  {
   "cell_type": "code",
   "execution_count": 79,
   "id": "79b8ac85",
   "metadata": {},
   "outputs": [
    {
     "name": "stdout",
     "output_type": "stream",
     "text": [
      "company_name='Lead India' salary=25000 remote=True\n"
     ]
    }
   ],
   "source": [
    "chain = template | groq_model | parser\n",
    "\n",
    "result=chain.invoke({\"job_description\": job_description})\n",
    "print(result)"
   ]
  },
  {
   "cell_type": "code",
   "execution_count": 82,
   "id": "285699c0",
   "metadata": {},
   "outputs": [
    {
     "name": "stdout",
     "output_type": "stream",
     "text": [
      "Lead India\n",
      "25000\n",
      "True\n"
     ]
    }
   ],
   "source": [
    "print(result.company_name)\n",
    "print(result.salary)\n",
    "print(result.remote)"
   ]
  },
  {
   "cell_type": "code",
   "execution_count": null,
   "id": "94f28b0e",
   "metadata": {},
   "outputs": [],
   "source": []
  }
 ],
 "metadata": {
  "kernelspec": {
   "display_name": "Python 3",
   "language": "python",
   "name": "python3"
  },
  "language_info": {
   "codemirror_mode": {
    "name": "ipython",
    "version": 3
   },
   "file_extension": ".py",
   "mimetype": "text/x-python",
   "name": "python",
   "nbconvert_exporter": "python",
   "pygments_lexer": "ipython3",
   "version": "3.12.9"
  }
 },
 "nbformat": 4,
 "nbformat_minor": 5
}
