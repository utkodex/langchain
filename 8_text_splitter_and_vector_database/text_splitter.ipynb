{
 "cells": [
  {
   "cell_type": "markdown",
   "id": "0b8f0cc7",
   "metadata": {},
   "source": [
    "## **Text Splitter or Chunking from scratch**"
   ]
  },
  {
   "cell_type": "markdown",
   "id": "e63e90d7",
   "metadata": {},
   "source": [
    "### **Chunking Function**"
   ]
  },
  {
   "cell_type": "code",
   "execution_count": 1,
   "id": "17059556",
   "metadata": {},
   "outputs": [],
   "source": [
    "def fixed_length_chunking(text, chunk_size):\n",
    "    words = text.split() \n",
    "    chunks = [' '.join(words[i:i + chunk_size]) for i in range(0, len(words), chunk_size)]\n",
    "    return chunks"
   ]
  },
  {
   "cell_type": "code",
   "execution_count": 2,
   "id": "5030ea8a",
   "metadata": {},
   "outputs": [],
   "source": [
    "# Example Usage\n",
    "TEXT = \"Machine learning is a field of AI that enables computers to learn from data. Deep learning is a subset of machine learning focused on neural networks. These techniques have revolutionized industries like healthcare, finance, and robotics.\""
   ]
  },
  {
   "cell_type": "markdown",
   "id": "5b853b08",
   "metadata": {},
   "source": [
    "**Chunking Function explained**"
   ]
  },
  {
   "cell_type": "markdown",
   "id": "81812721",
   "metadata": {},
   "source": [
    "```\n",
    "👉 words = text.split() \n",
    "```"
   ]
  },
  {
   "cell_type": "code",
   "execution_count": 3,
   "id": "1fb7a877",
   "metadata": {},
   "outputs": [
    {
     "name": "stdout",
     "output_type": "stream",
     "text": [
      "['Machine', 'learning', 'is', 'a', 'field', 'of', 'AI', 'that', 'enables', 'computers', 'to', 'learn', 'from', 'data.', 'Deep', 'learning', 'is', 'a', 'subset', 'of', 'machine', 'learning', 'focused', 'on', 'neural', 'networks.', 'These', 'techniques', 'have', 'revolutionized', 'industries', 'like', 'healthcare,', 'finance,', 'and', 'robotics.']\n"
     ]
    }
   ],
   "source": [
    "words = TEXT.split()\n",
    "print(words)"
   ]
  },
  {
   "cell_type": "markdown",
   "id": "37704202",
   "metadata": {},
   "source": [
    "```python\n",
    "👉 chunks = [' '.join(words[i:i + chunk_size]) for i in range(0, len(words), chunk_size)]\n",
    "```"
   ]
  },
  {
   "cell_type": "code",
   "execution_count": 4,
   "id": "ae4ccc90",
   "metadata": {},
   "outputs": [
    {
     "name": "stdout",
     "output_type": "stream",
     "text": [
      "0\n",
      "10\n",
      "20\n",
      "30\n"
     ]
    }
   ],
   "source": [
    "CHUNK_SIZE=10\n",
    "\n",
    "for i in range(0, len(words), CHUNK_SIZE):\n",
    "    print(i)"
   ]
  },
  {
   "cell_type": "code",
   "execution_count": 5,
   "id": "e9b67d66",
   "metadata": {},
   "outputs": [
    {
     "data": {
      "text/plain": [
       "['Machine',\n",
       " 'learning',\n",
       " 'is',\n",
       " 'a',\n",
       " 'field',\n",
       " 'of',\n",
       " 'AI',\n",
       " 'that',\n",
       " 'enables',\n",
       " 'computers']"
      ]
     },
     "execution_count": 5,
     "metadata": {},
     "output_type": "execute_result"
    }
   ],
   "source": [
    "words[0:0 + CHUNK_SIZE]"
   ]
  },
  {
   "cell_type": "code",
   "execution_count": 6,
   "id": "8aef988b",
   "metadata": {},
   "outputs": [
    {
     "data": {
      "text/plain": [
       "'industries like healthcare, finance, and robotics.'"
      ]
     },
     "execution_count": 6,
     "metadata": {},
     "output_type": "execute_result"
    }
   ],
   "source": [
    "' '.join(words[i:i + CHUNK_SIZE])"
   ]
  },
  {
   "cell_type": "code",
   "execution_count": 7,
   "id": "bef3c5e0",
   "metadata": {},
   "outputs": [
    {
     "data": {
      "text/plain": [
       "['to', 'learn', 'from', 'data.', 'Deep', 'learning', 'is', 'a', 'subset', 'of']"
      ]
     },
     "execution_count": 7,
     "metadata": {},
     "output_type": "execute_result"
    }
   ],
   "source": [
    "words[10:10 + CHUNK_SIZE]"
   ]
  },
  {
   "cell_type": "code",
   "execution_count": 8,
   "id": "2fc777b8",
   "metadata": {},
   "outputs": [
    {
     "name": "stdout",
     "output_type": "stream",
     "text": [
      "0\n",
      "10\n",
      "20\n",
      "30\n"
     ]
    }
   ],
   "source": [
    "for i in range(0, len(words), CHUNK_SIZE):\n",
    "    print(i)"
   ]
  },
  {
   "cell_type": "code",
   "execution_count": 9,
   "id": "2adc7c07",
   "metadata": {},
   "outputs": [
    {
     "data": {
      "text/plain": [
       "['Machine learning is a field of AI that enables computers',\n",
       " 'to learn from data. Deep learning is a subset of',\n",
       " 'machine learning focused on neural networks. These techniques have revolutionized',\n",
       " 'industries like healthcare, finance, and robotics.']"
      ]
     },
     "execution_count": 9,
     "metadata": {},
     "output_type": "execute_result"
    }
   ],
   "source": [
    "chunks = fixed_length_chunking(text=TEXT, chunk_size=CHUNK_SIZE)\n",
    "chunks"
   ]
  },
  {
   "cell_type": "code",
   "execution_count": 10,
   "id": "1435a08f",
   "metadata": {},
   "outputs": [
    {
     "name": "stdout",
     "output_type": "stream",
     "text": [
      "Chunk 1: Machine learning is a field of AI that enables computers\n",
      "\n",
      "Chunk 2: to learn from data. Deep learning is a subset of\n",
      "\n",
      "Chunk 3: machine learning focused on neural networks. These techniques have revolutionized\n",
      "\n",
      "Chunk 4: industries like healthcare, finance, and robotics.\n",
      "\n"
     ]
    }
   ],
   "source": [
    "for i, chunk in enumerate(chunks):\n",
    "    print(f\"Chunk {i+1}: {chunk}\\n\")"
   ]
  },
  {
   "cell_type": "markdown",
   "id": "edd8368c",
   "metadata": {},
   "source": [
    "## **Chunking with Charater text spiltter**"
   ]
  },
  {
   "cell_type": "code",
   "execution_count": 11,
   "id": "63edb2a4",
   "metadata": {},
   "outputs": [],
   "source": [
    "text = \"\"\"\n",
    "Lorem ipsum dolor sit amet, consectetur adipiscing elit. Sed do eiusmod tempor incididunt ut labore et dolore magna aliqua.\n",
    "\n",
    "Ut enim ad minim veniam, quis nostrud exercitation ullamco laboris nisi ut aliquip ex ea commodo consequat.\n",
    "\n",
    "Duis aute irure dolor in reprehenderit in voluptate velit esse cillum dolore eu fugiat nulla pariatur.\n",
    "\n",
    "Excepteur sint occaecat cupidatat non proident, sunt in culpa qui officia deserunt mollit anim id est laborum.\n",
    "\"\"\""
   ]
  },
  {
   "cell_type": "code",
   "execution_count": 12,
   "id": "530ec501",
   "metadata": {},
   "outputs": [],
   "source": [
    "from langchain_text_splitters import CharacterTextSplitter\n",
    "\n",
    "text_splitter = CharacterTextSplitter(separator=\" \", chunk_size=50, chunk_overlap=0)\n"
   ]
  },
  {
   "cell_type": "code",
   "execution_count": 13,
   "id": "8871fe43",
   "metadata": {},
   "outputs": [
    {
     "data": {
      "text/plain": [
       "['Lorem ipsum dolor sit amet, consectetur',\n",
       " 'adipiscing elit. Sed do eiusmod tempor incididunt',\n",
       " 'ut labore et dolore magna aliqua.\\n\\nUt enim ad',\n",
       " 'minim veniam, quis nostrud exercitation ullamco',\n",
       " 'laboris nisi ut aliquip ex ea commodo',\n",
       " 'consequat.\\n\\nDuis aute irure dolor in reprehenderit',\n",
       " 'in voluptate velit esse cillum dolore eu fugiat',\n",
       " 'nulla pariatur.\\n\\nExcepteur sint occaecat cupidatat',\n",
       " 'non proident, sunt in culpa qui officia deserunt',\n",
       " 'mollit anim id est laborum.']"
      ]
     },
     "execution_count": 13,
     "metadata": {},
     "output_type": "execute_result"
    }
   ],
   "source": [
    "chunks = text_splitter.split_text(text=text)\n",
    "chunks"
   ]
  },
  {
   "cell_type": "code",
   "execution_count": 14,
   "id": "9a6a2c18",
   "metadata": {},
   "outputs": [
    {
     "name": "stdout",
     "output_type": "stream",
     "text": [
      "Chunk 1: Lorem ipsum dolor sit amet, consectetur\n",
      "\n",
      "Chunk 2: adipiscing elit. Sed do eiusmod tempor incididunt\n",
      "\n",
      "Chunk 3: ut labore et dolore magna aliqua.\n",
      "\n",
      "Ut enim ad\n",
      "\n",
      "Chunk 4: minim veniam, quis nostrud exercitation ullamco\n",
      "\n",
      "Chunk 5: laboris nisi ut aliquip ex ea commodo\n",
      "\n",
      "Chunk 6: consequat.\n",
      "\n",
      "Duis aute irure dolor in reprehenderit\n",
      "\n",
      "Chunk 7: in voluptate velit esse cillum dolore eu fugiat\n",
      "\n",
      "Chunk 8: nulla pariatur.\n",
      "\n",
      "Excepteur sint occaecat cupidatat\n",
      "\n",
      "Chunk 9: non proident, sunt in culpa qui officia deserunt\n",
      "\n",
      "Chunk 10: mollit anim id est laborum.\n",
      "\n"
     ]
    }
   ],
   "source": [
    "for i, chunk in enumerate(chunks):\n",
    "    print(f\"Chunk {i+1}: {chunk}\\n\")"
   ]
  },
  {
   "cell_type": "code",
   "execution_count": 28,
   "id": "4264f3d4",
   "metadata": {},
   "outputs": [
    {
     "data": {
      "text/plain": [
       "'The untimely death of billionaire industrialist Sunjay Kapur has left a deep void in both the corporate boardrooms and celebrity circles he straddled with equal ease. The 57-year-old chairman of Sona Comstar, a leading global player in automotive components, died suddenly on June 12, 2025, while playing polo in London. Medical reports suggest a rare and fatal anaphylactic shock, reportedly triggered after he accidentally swallowed a bee during the match.\\n\\nWhile tributes continue to pour in for the visionary businessman who took his father’s company global, the spotlight has now shifted to the inevitable and complicated question: Who inherits his estimated Rs 10,300 crore ($1.2 billion) fortune?\\n\\nSunjay Kapur’s death has triggered a swirl of speculation regarding the succession of his business empire and personal wealth. At the time of his passing, Sona Comstar had a market capitalisation of approximately Rs 31,000 crore ($4 billion). Under his leadership, the company expanded rapidly with operations in India, China, Mexico, Serbia, and the United States, becoming a major supplier to global electric vehicle manufacturers.\\n\\nFollowing the tragedy, Sona Comstar issued a public statement assuring stakeholders of business continuity and respect for Kapur’s legacy. However, no official announcement has been made regarding a successor, and the company now stands at a delicate crossroads.\\n\\nKapur leaves behind a complex family tree and a potentially contentious estate. He was married three times and is survived by three children: Samaira (20) and Kian (14) from his second wife, actress Karisma Kapur, and six-year-old Azariyas from his third and current wife, Priya Sachdev. He also acted as a stepfather to Priya’s daughter from a previous marriage.\\n\\nIndian inheritance law adds another layer to the unfolding drama. As per the Hindu Succession Act of 1956, children are entitled to a share of their father’s property – regardless of the parents’ marital status at the time of death. While a legally drafted will can override typical inheritance rules, sources close to the family suggest no public confirmation has been made regarding such a document.\\n\\nIf a will does exist, it could designate specific allocations – possibly even excluding some heirs. But in the absence of one, the estate would be distributed among his legal heirs, including all biological children and his surviving spouse, Priya Sachdev.\\n\\nKapur’s high-profile marriage to Bollywood actress Karisma Kapoor ended in 2016, but not without legal safeguards for their two children. According to divorce settlement details reported at the time, Sunjay Kapur had already set aside bonds worth Rs 14 crore each for Samaira and Kian, along with a monthly income of Rs 10 lakh. Karisma was also awarded his father’s Mumbai residence under the Supreme Court-monitored alimony agreement, and she received full custody of both children.\\n\\nStill, these arrangements pertain only to child support and post-divorce alimony. Whether Samaira and Kian will receive a larger portion of Kapur’s corporate and personal wealth remains uncertain and could depend on the existence and contents of a valid will.\\n\\nPriya Sachdev, Kapur’s third wife, is widely expected to be a principal beneficiary of his estate. Not only is she the mother of his youngest son, Azariyas, but she was also his spouse at the time of death. In the eyes of the law, she holds a strong claim over the late tycoon’s assets. Before marrying Kapur, Sachdev was married to businessman Vikram Chatwal, with whom she had a daughter. Sunjay Kapur was known to have embraced both children as part of his family.\\n\\nAs of now, some media reports suggest that Kapur’s sisters may be considered for management roles within Sona Comstar, though the company has made no official announcement. In the meantime, the boardroom remains without its captain, and the estate, without a publicly named heir.\\n\\nThe case surrounding Sunjay Kapur’s inheritance is expected to become clearer in the coming weeks, once legal proceedings and probate processes begin. Until then, his multi-crore legacy hangs delicately between bloodlines, boardrooms, and legalities.'"
      ]
     },
     "execution_count": 28,
     "metadata": {},
     "output_type": "execute_result"
    }
   ],
   "source": [
    "from langchain.document_loaders import TextLoader\n",
    "\n",
    "loader=TextLoader(r\"data\\note.txt\")\n",
    "docs=loader.load()\n",
    "\n",
    "docs[0].page_content"
   ]
  },
  {
   "cell_type": "code",
   "execution_count": 29,
   "id": "f68b6e08",
   "metadata": {},
   "outputs": [
    {
     "data": {
      "text/plain": [
       "13"
      ]
     },
     "execution_count": 29,
     "metadata": {},
     "output_type": "execute_result"
    }
   ],
   "source": [
    "len(\"Utkarsh Sinha\")"
   ]
  },
  {
   "cell_type": "code",
   "execution_count": 30,
   "id": "5ad27c82",
   "metadata": {},
   "outputs": [
    {
     "data": {
      "text/plain": [
       "4177"
      ]
     },
     "execution_count": 30,
     "metadata": {},
     "output_type": "execute_result"
    }
   ],
   "source": [
    "len(docs[0].page_content)"
   ]
  },
  {
   "cell_type": "code",
   "execution_count": null,
   "id": "cedb7405",
   "metadata": {},
   "outputs": [],
   "source": [
    "splitter=CharacterTextSplitter(separator=\"\\n\", chunk_size=3000,chunk_overlap=250)\n",
    "split_docs=splitter.split_documents(docs)\n",
    "split_docs"
   ]
  }
 ],
 "metadata": {
  "kernelspec": {
   "display_name": "Python 3",
   "language": "python",
   "name": "python3"
  },
  "language_info": {
   "codemirror_mode": {
    "name": "ipython",
    "version": 3
   },
   "file_extension": ".py",
   "mimetype": "text/x-python",
   "name": "python",
   "nbconvert_exporter": "python",
   "pygments_lexer": "ipython3",
   "version": "3.10.18"
  }
 },
 "nbformat": 4,
 "nbformat_minor": 5
}
