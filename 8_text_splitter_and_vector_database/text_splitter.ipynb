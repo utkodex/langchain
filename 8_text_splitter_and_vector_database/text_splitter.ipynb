{
 "cells": [
  {
   "cell_type": "markdown",
   "id": "0b8f0cc7",
   "metadata": {},
   "source": [
    "## **Text Splitter or Chunking from scratch**"
   ]
  },
  {
   "cell_type": "markdown",
   "id": "e63e90d7",
   "metadata": {},
   "source": [
    "### **Chunking Function**"
   ]
  },
  {
   "cell_type": "code",
   "execution_count": 1,
   "id": "17059556",
   "metadata": {},
   "outputs": [],
   "source": [
    "def fixed_length_chunking(text, chunk_size):\n",
    "    words = text.split() \n",
    "    chunks = [' '.join(words[i:i + chunk_size]) for i in range(0, len(words), chunk_size)]\n",
    "    return chunks"
   ]
  },
  {
   "cell_type": "code",
   "execution_count": 2,
   "id": "5030ea8a",
   "metadata": {},
   "outputs": [],
   "source": [
    "# Example Usage\n",
    "TEXT = \"Machine learning is a field of AI that enables computers to learn from data. Deep learning is a subset of machine learning focused on neural networks. These techniques have revolutionized industries like healthcare, finance, and robotics.\""
   ]
  },
  {
   "cell_type": "markdown",
   "id": "5b853b08",
   "metadata": {},
   "source": [
    "**Chunking Function explained**"
   ]
  },
  {
   "cell_type": "markdown",
   "id": "81812721",
   "metadata": {},
   "source": [
    "```\n",
    "👉 words = text.split() \n",
    "```"
   ]
  },
  {
   "cell_type": "code",
   "execution_count": 3,
   "id": "1fb7a877",
   "metadata": {},
   "outputs": [
    {
     "name": "stdout",
     "output_type": "stream",
     "text": [
      "['Machine', 'learning', 'is', 'a', 'field', 'of', 'AI', 'that', 'enables', 'computers', 'to', 'learn', 'from', 'data.', 'Deep', 'learning', 'is', 'a', 'subset', 'of', 'machine', 'learning', 'focused', 'on', 'neural', 'networks.', 'These', 'techniques', 'have', 'revolutionized', 'industries', 'like', 'healthcare,', 'finance,', 'and', 'robotics.']\n"
     ]
    }
   ],
   "source": [
    "words = TEXT.split()\n",
    "print(words)"
   ]
  },
  {
   "cell_type": "markdown",
   "id": "37704202",
   "metadata": {},
   "source": [
    "```python\n",
    "👉 chunks = [' '.join(words[i:i + chunk_size]) for i in range(0, len(words), chunk_size)]\n",
    "```"
   ]
  },
  {
   "cell_type": "code",
   "execution_count": 4,
   "id": "ae4ccc90",
   "metadata": {},
   "outputs": [
    {
     "name": "stdout",
     "output_type": "stream",
     "text": [
      "0\n",
      "10\n",
      "20\n",
      "30\n"
     ]
    }
   ],
   "source": [
    "CHUNK_SIZE=10\n",
    "\n",
    "for i in range(0, len(words), CHUNK_SIZE):\n",
    "    print(i)"
   ]
  },
  {
   "cell_type": "code",
   "execution_count": 5,
   "id": "e9b67d66",
   "metadata": {},
   "outputs": [
    {
     "data": {
      "text/plain": [
       "['Machine',\n",
       " 'learning',\n",
       " 'is',\n",
       " 'a',\n",
       " 'field',\n",
       " 'of',\n",
       " 'AI',\n",
       " 'that',\n",
       " 'enables',\n",
       " 'computers']"
      ]
     },
     "execution_count": 5,
     "metadata": {},
     "output_type": "execute_result"
    }
   ],
   "source": [
    "words[0:0 + CHUNK_SIZE]"
   ]
  },
  {
   "cell_type": "code",
   "execution_count": 6,
   "id": "8aef988b",
   "metadata": {},
   "outputs": [
    {
     "data": {
      "text/plain": [
       "'industries like healthcare, finance, and robotics.'"
      ]
     },
     "execution_count": 6,
     "metadata": {},
     "output_type": "execute_result"
    }
   ],
   "source": [
    "' '.join(words[i:i + CHUNK_SIZE])"
   ]
  },
  {
   "cell_type": "code",
   "execution_count": 7,
   "id": "bef3c5e0",
   "metadata": {},
   "outputs": [
    {
     "data": {
      "text/plain": [
       "['to', 'learn', 'from', 'data.', 'Deep', 'learning', 'is', 'a', 'subset', 'of']"
      ]
     },
     "execution_count": 7,
     "metadata": {},
     "output_type": "execute_result"
    }
   ],
   "source": [
    "words[10:10 + CHUNK_SIZE]"
   ]
  },
  {
   "cell_type": "code",
   "execution_count": 8,
   "id": "2fc777b8",
   "metadata": {},
   "outputs": [
    {
     "name": "stdout",
     "output_type": "stream",
     "text": [
      "0\n",
      "10\n",
      "20\n",
      "30\n"
     ]
    }
   ],
   "source": [
    "for i in range(0, len(words), CHUNK_SIZE):\n",
    "    print(i)"
   ]
  },
  {
   "cell_type": "code",
   "execution_count": 9,
   "id": "2adc7c07",
   "metadata": {},
   "outputs": [
    {
     "data": {
      "text/plain": [
       "['Machine learning is a field of AI that enables computers',\n",
       " 'to learn from data. Deep learning is a subset of',\n",
       " 'machine learning focused on neural networks. These techniques have revolutionized',\n",
       " 'industries like healthcare, finance, and robotics.']"
      ]
     },
     "execution_count": 9,
     "metadata": {},
     "output_type": "execute_result"
    }
   ],
   "source": [
    "chunks = fixed_length_chunking(text=TEXT, chunk_size=CHUNK_SIZE)\n",
    "chunks"
   ]
  },
  {
   "cell_type": "code",
   "execution_count": 10,
   "id": "1435a08f",
   "metadata": {},
   "outputs": [
    {
     "name": "stdout",
     "output_type": "stream",
     "text": [
      "Chunk 1: Machine learning is a field of AI that enables computers\n",
      "\n",
      "Chunk 2: to learn from data. Deep learning is a subset of\n",
      "\n",
      "Chunk 3: machine learning focused on neural networks. These techniques have revolutionized\n",
      "\n",
      "Chunk 4: industries like healthcare, finance, and robotics.\n",
      "\n"
     ]
    }
   ],
   "source": [
    "for i, chunk in enumerate(chunks):\n",
    "    print(f\"Chunk {i+1}: {chunk}\\n\")"
   ]
  },
  {
   "cell_type": "markdown",
   "id": "edd8368c",
   "metadata": {},
   "source": [
    "## **Chunking with Charater text spiltter**"
   ]
  },
  {
   "cell_type": "markdown",
   "id": "a8d38cb2",
   "metadata": {},
   "source": [
    "### **CharacterTextSplitter**\n",
    "\n",
    "* Splits text into chunks based on a single specified separator (e.g., space, period).\n",
    "* If the text cannot fit into a chunk because of the separator, it splits arbitrarily, which can break words or phrases.\n",
    "* **Simple but less robust.**\n",
    "\n",
    "#### Example:"
   ]
  },
  {
   "cell_type": "code",
   "execution_count": 11,
   "id": "63edb2a4",
   "metadata": {},
   "outputs": [],
   "source": [
    "text = \"\"\"\n",
    "Lorem ipsum dolor sit amet, consectetur adipiscing elit. Sed do eiusmod tempor incididunt ut labore et dolore magna aliqua.\n",
    "\n",
    "Ut enim ad minim veniam, quis nostrud exercitation ullamco laboris nisi ut aliquip ex ea commodo consequat.\n",
    "\n",
    "Duis aute irure dolor in reprehenderit in voluptate velit esse cillum dolore eu fugiat nulla pariatur.\n",
    "\n",
    "Excepteur sint occaecat cupidatat non proident, sunt in culpa qui officia deserunt mollit anim id est laborum.\n",
    "\"\"\""
   ]
  },
  {
   "cell_type": "code",
   "execution_count": 35,
   "id": "530ec501",
   "metadata": {},
   "outputs": [],
   "source": [
    "from langchain_text_splitters import CharacterTextSplitter\n",
    "\n",
    "text_splitter = CharacterTextSplitter(separator=\" \", chunk_size=50, chunk_overlap=0)\n"
   ]
  },
  {
   "cell_type": "code",
   "execution_count": 36,
   "id": "8871fe43",
   "metadata": {},
   "outputs": [
    {
     "data": {
      "text/plain": [
       "['Lorem ipsum dolor sit amet, consectetur',\n",
       " 'adipiscing elit. Sed do eiusmod tempor incididunt',\n",
       " 'ut labore et dolore magna aliqua.\\n\\nUt enim ad',\n",
       " 'minim veniam, quis nostrud exercitation ullamco',\n",
       " 'laboris nisi ut aliquip ex ea commodo',\n",
       " 'consequat.\\n\\nDuis aute irure dolor in reprehenderit',\n",
       " 'in voluptate velit esse cillum dolore eu fugiat',\n",
       " 'nulla pariatur.\\n\\nExcepteur sint occaecat cupidatat',\n",
       " 'non proident, sunt in culpa qui officia deserunt',\n",
       " 'mollit anim id est laborum.']"
      ]
     },
     "execution_count": 36,
     "metadata": {},
     "output_type": "execute_result"
    }
   ],
   "source": [
    "chunks = text_splitter.split_text(text=text)\n",
    "chunks"
   ]
  },
  {
   "cell_type": "code",
   "execution_count": 14,
   "id": "9a6a2c18",
   "metadata": {},
   "outputs": [
    {
     "name": "stdout",
     "output_type": "stream",
     "text": [
      "Chunk 1: Lorem ipsum dolor sit amet, consectetur\n",
      "\n",
      "Chunk 2: adipiscing elit. Sed do eiusmod tempor incididunt\n",
      "\n",
      "Chunk 3: ut labore et dolore magna aliqua.\n",
      "\n",
      "Ut enim ad\n",
      "\n",
      "Chunk 4: minim veniam, quis nostrud exercitation ullamco\n",
      "\n",
      "Chunk 5: laboris nisi ut aliquip ex ea commodo\n",
      "\n",
      "Chunk 6: consequat.\n",
      "\n",
      "Duis aute irure dolor in reprehenderit\n",
      "\n",
      "Chunk 7: in voluptate velit esse cillum dolore eu fugiat\n",
      "\n",
      "Chunk 8: nulla pariatur.\n",
      "\n",
      "Excepteur sint occaecat cupidatat\n",
      "\n",
      "Chunk 9: non proident, sunt in culpa qui officia deserunt\n",
      "\n",
      "Chunk 10: mollit anim id est laborum.\n",
      "\n"
     ]
    }
   ],
   "source": [
    "for i, chunk in enumerate(chunks):\n",
    "    print(f\"Chunk {i+1}: {chunk}\\n\")"
   ]
  },
  {
   "cell_type": "code",
   "execution_count": 24,
   "id": "4264f3d4",
   "metadata": {},
   "outputs": [
    {
     "data": {
      "text/plain": [
       "'The untimely death of billionaire industrialist Sunjay Kapur has left a deep void in both the corporate boardrooms and celebrity circles he straddled with equal ease. The 57-year-old chairman of Sona Comstar, a leading global player in automotive components, died suddenly on June 12, 2025, while playing polo in London. Medical reports suggest a rare and fatal anaphylactic shock, reportedly triggered after he accidentally swallowed a bee during the match.\\n\\nWhile tributes continue to pour in for the visionary businessman who took his father’s company global, the spotlight has now shifted to the inevitable and complicated question: Who inherits his estimated Rs 10,300 crore ($1.2 billion) fortune?\\n\\nSunjay Kapur’s death has triggered a swirl of speculation regarding the succession of his business empire and personal wealth. At the time of his passing, Sona Comstar had a market capitalisation of approximately Rs 31,000 crore ($4 billion). Under his leadership, the company expanded rapidly with operations in India, China, Mexico, Serbia, and the United States, becoming a major supplier to global electric vehicle manufacturers.\\n\\nFollowing the tragedy, Sona Comstar issued a public statement assuring stakeholders of business continuity and respect for Kapur’s legacy. However, no official announcement has been made regarding a successor, and the company now stands at a delicate crossroads.\\n\\nKapur leaves behind a complex family tree and a potentially contentious estate. He was married three times and is survived by three children: Samaira (20) and Kian (14) from his second wife, actress Karisma Kapur, and six-year-old Azariyas from his third and current wife, Priya Sachdev. He also acted as a stepfather to Priya’s daughter from a previous marriage.\\n\\nIndian inheritance law adds another layer to the unfolding drama. As per the Hindu Succession Act of 1956, children are entitled to a share of their father’s property – regardless of the parents’ marital status at the time of death. While a legally drafted will can override typical inheritance rules, sources close to the family suggest no public confirmation has been made regarding such a document.\\n\\nIf a will does exist, it could designate specific allocations – possibly even excluding some heirs. But in the absence of one, the estate would be distributed among his legal heirs, including all biological children and his surviving spouse, Priya Sachdev.\\n\\nKapur’s high-profile marriage to Bollywood actress Karisma Kapoor ended in 2016, but not without legal safeguards for their two children. According to divorce settlement details reported at the time, Sunjay Kapur had already set aside bonds worth Rs 14 crore each for Samaira and Kian, along with a monthly income of Rs 10 lakh. Karisma was also awarded his father’s Mumbai residence under the Supreme Court-monitored alimony agreement, and she received full custody of both children.\\n\\nStill, these arrangements pertain only to child support and post-divorce alimony. Whether Samaira and Kian will receive a larger portion of Kapur’s corporate and personal wealth remains uncertain and could depend on the existence and contents of a valid will.\\n\\nPriya Sachdev, Kapur’s third wife, is widely expected to be a principal beneficiary of his estate. Not only is she the mother of his youngest son, Azariyas, but she was also his spouse at the time of death. In the eyes of the law, she holds a strong claim over the late tycoon’s assets. Before marrying Kapur, Sachdev was married to businessman Vikram Chatwal, with whom she had a daughter. Sunjay Kapur was known to have embraced both children as part of his family.\\n\\nAs of now, some media reports suggest that Kapur’s sisters may be considered for management roles within Sona Comstar, though the company has made no official announcement. In the meantime, the boardroom remains without its captain, and the estate, without a publicly named heir.\\n\\nThe case surrounding Sunjay Kapur’s inheritance is expected to become clearer in the coming weeks, once legal proceedings and probate processes begin. Until then, his multi-crore legacy hangs delicately between bloodlines, boardrooms, and legalities.\\n\\nHello there,\\n\\nI\\'m Rosswen, a 25 year old business woman who tries to be creative time to time!\\n\\nI\\'m not a good writer or something. I can\\'t say I make stories that will leave you speecless or make you cry. I just write, because I want to. I love SasuNaru, because I feel like they were made for each other, and I don\\'t like it when they are not together. I write the characters OOC because I mostly write AUs. When I\\'m writing my story, characters become mine, and they reflect my way of thinking or behaviour or how I wish to see them.\\n\\nGENERAL WARNING: I WRITE EFFEMINATE NARUTO. I WRITE SASUKE WITH ACTUAL EMOTIONS, NOT AS A REFRIGERATOR WHOSE ONLY COMMUNICATION SOUND IS \"HN.\" I DISLIKE SAKURA. (I don\\'t have to love her and tbh I don\\'t see anything likable with her.) LOOKING FOR FLUENT, GRAMMATICALLY FAULTLESS STORIES? Too bad, I\\'m not your writer.\\n\\nWHAT I WRITE THE BEST?: FLUFF. (Beware of FWP.) ANGST. (I love it when we all cry together.)\\n\\nWHAT I\\'M NO GOOD FOR?: HUMOR. (I admit, my sense of humor is a bit off.) HORROR. (How can you write something scary? Unless you are S. King.) SMUT. (I don\\'t like PWP.)\\n\\nHow I see the characters:\\n\\nIf I should be honest, I didn\\'t love Naruto at his first appearance. It happened in time. And you know what made me love him so much? His innocence. I know, Naruto is a determined, strong ninja. But have you ever realized how pure and childish he is in that dirty world? Many things showed me that Naruto is just a lost, little child inside and that\\'s why I\\'m bolding that side of him in my stories. Yes, he was a really good ninja, but have you seen Naruto willingly killing people? I think if he had a chance, he wouldn\\'t want to. Have you ever seen how he tries to talk to his enemies so maybe he will convince them and he won\\'t have to hurt them? We all see a different person when we look at certain people and this is my Naruto.\\n\\nMy love for Sasuke comes from my deep understanding. I love him the most and you can probably notice it in my writing.\\n\\nWhy I write family/mpreg based stories:\\n\\nI like writing mpregs because I know that my Naruto and Sasuke would be the best of the parents!\\n\\nAbout Naruto being the mother in my stories, I don\\'t think the reason why we call our mothers is because they are female, I think we do it, because they are the ones who gave birth to us. There is a saying, Heaven is under the feet of mothers, and my Naruto deserves heaven and much more. He has so much love to give and he deserves the love, care, understanding Sasuke tries to give him.\\n\\nWhat kind of a writer/reader I am:\\n\\nI\\'m not an author who likes to write every single thing. There will be holes in the stories and as readers you\\'re free to imagine them however you like. I will leave spaces in the stories on purpose. I think this helps the readers to get in the story easier.\\n\\nI love good angsty stories, but they always need to have happy endings and character dead is a huge no for me. Seriously, I can\\'t stand it.\\n\\nSadly, I can\\'t read other fanfics when I\\'m writing one but I always try to read and support the new writers among us. Internet is full of mean people and just a nice word we will give them can make them happy and encourage them into writing and improving more.\\n\\nI love it when my stories are complete. I work hard to finish them, so please don\\'t worry about not reading the ending of my stories.\\n\\nNote to my dear readers:\\n\\nMy readers are always welcome to share their thoughts and their ideas for new stories. If your ideas are somehow crossing with mine, I\\'ll write a fic for you and me! And now, I\\'ve decided to put your ideas into work! OUR STORIES is in progress! Each chapter of the story contains a request I got. If you want to see your idea written, please PM me. Let\\'s share the SasuNaru love and fun!\\n\\nLastly:\\n\\nI can write only one story at a time, if not, I get discracted and end up dropping the story, which is not cool at all. I want to write more and update faster, but sadly, weekly updates are the best I can do atm. Lately, I decided to update on Monday nights, so watch out for the new chapters and happy reading!\\n\\nNotice (14.10.2017):\\n\\nHello everyone! I know, it\\'s been a looong while since you\\'ve seen me last and I\\'m sorry! I\\'ve gotten so many comments and PMs and I\\'m so thankful that I have all of you. I\\'m fine, my health is good. I\\'ve lost 20 kgs since last year. Half of me is gone lol. I\\'m working hard nowadays, hoping to get better at what I do.\\n\\nSo, I was writing a new story. And I was into six chapters when I suddenly stopped and felt like that I was rewriting myself. I didn\\'t like it at all. I hated the the fact that I wasn\\'t being creative. I took a break from writing to get some new inspiration and I started a new story. I hope I\\'ll like it this time. I always try to write a story that\\'s going to be better than the previous one, so I hope I\\'ll achive that!\\n\\nThank you so much sticking with me. I love you all, hope to see you soon!'"
      ]
     },
     "execution_count": 24,
     "metadata": {},
     "output_type": "execute_result"
    }
   ],
   "source": [
    "from langchain.document_loaders import TextLoader\n",
    "\n",
    "loader=TextLoader(r\"data\\note.txt\")\n",
    "docs=loader.load()\n",
    "\n",
    "docs[0].page_content"
   ]
  },
  {
   "cell_type": "code",
   "execution_count": 25,
   "id": "f68b6e08",
   "metadata": {},
   "outputs": [
    {
     "data": {
      "text/plain": [
       "13"
      ]
     },
     "execution_count": 25,
     "metadata": {},
     "output_type": "execute_result"
    }
   ],
   "source": [
    "len(\"Utkarsh Sinha\")"
   ]
  },
  {
   "cell_type": "code",
   "execution_count": 26,
   "id": "5ad27c82",
   "metadata": {},
   "outputs": [
    {
     "data": {
      "text/plain": [
       "9122"
      ]
     },
     "execution_count": 26,
     "metadata": {},
     "output_type": "execute_result"
    }
   ],
   "source": [
    "len(docs[0].page_content)"
   ]
  },
  {
   "cell_type": "code",
   "execution_count": 27,
   "id": "cedb7405",
   "metadata": {},
   "outputs": [
    {
     "data": {
      "text/plain": [
       "[Document(metadata={'source': 'data\\\\note.txt'}, page_content='The untimely death of billionaire industrialist Sunjay Kapur has left a deep void in both the corporate boardrooms and celebrity circles he straddled with equal ease. The 57-year-old chairman of Sona Comstar, a leading global player in automotive components, died suddenly on June 12, 2025, while playing polo in London. Medical reports suggest a rare and fatal anaphylactic shock, reportedly triggered after he accidentally swallowed a bee during the match.\\nWhile tributes continue to pour in for the visionary businessman who took his father’s company global, the spotlight has now shifted to the inevitable and complicated question: Who inherits his estimated Rs 10,300 crore ($1.2 billion) fortune?\\nSunjay Kapur’s death has triggered a swirl of speculation regarding the succession of his business empire and personal wealth. At the time of his passing, Sona Comstar had a market capitalisation of approximately Rs 31,000 crore ($4 billion). Under his leadership, the company expanded rapidly with operations in India, China, Mexico, Serbia, and the United States, becoming a major supplier to global electric vehicle manufacturers.\\nFollowing the tragedy, Sona Comstar issued a public statement assuring stakeholders of business continuity and respect for Kapur’s legacy. However, no official announcement has been made regarding a successor, and the company now stands at a delicate crossroads.\\nKapur leaves behind a complex family tree and a potentially contentious estate. He was married three times and is survived by three children: Samaira (20) and Kian (14) from his second wife, actress Karisma Kapur, and six-year-old Azariyas from his third and current wife, Priya Sachdev. He also acted as a stepfather to Priya’s daughter from a previous marriage.\\nIndian inheritance law adds another layer to the unfolding drama. As per the Hindu Succession Act of 1956, children are entitled to a share of their father’s property – regardless of the parents’ marital status at the time of death. While a legally drafted will can override typical inheritance rules, sources close to the family suggest no public confirmation has been made regarding such a document.\\nIf a will does exist, it could designate specific allocations – possibly even excluding some heirs. But in the absence of one, the estate would be distributed among his legal heirs, including all biological children and his surviving spouse, Priya Sachdev.\\nKapur’s high-profile marriage to Bollywood actress Karisma Kapoor ended in 2016, but not without legal safeguards for their two children. According to divorce settlement details reported at the time, Sunjay Kapur had already set aside bonds worth Rs 14 crore each for Samaira and Kian, along with a monthly income of Rs 10 lakh. Karisma was also awarded his father’s Mumbai residence under the Supreme Court-monitored alimony agreement, and she received full custody of both children.'),\n",
       " Document(metadata={'source': 'data\\\\note.txt'}, page_content='Still, these arrangements pertain only to child support and post-divorce alimony. Whether Samaira and Kian will receive a larger portion of Kapur’s corporate and personal wealth remains uncertain and could depend on the existence and contents of a valid will.\\nPriya Sachdev, Kapur’s third wife, is widely expected to be a principal beneficiary of his estate. Not only is she the mother of his youngest son, Azariyas, but she was also his spouse at the time of death. In the eyes of the law, she holds a strong claim over the late tycoon’s assets. Before marrying Kapur, Sachdev was married to businessman Vikram Chatwal, with whom she had a daughter. Sunjay Kapur was known to have embraced both children as part of his family.\\nAs of now, some media reports suggest that Kapur’s sisters may be considered for management roles within Sona Comstar, though the company has made no official announcement. In the meantime, the boardroom remains without its captain, and the estate, without a publicly named heir.\\nThe case surrounding Sunjay Kapur’s inheritance is expected to become clearer in the coming weeks, once legal proceedings and probate processes begin. Until then, his multi-crore legacy hangs delicately between bloodlines, boardrooms, and legalities.\\nHello there,\\nI\\'m Rosswen, a 25 year old business woman who tries to be creative time to time!\\nI\\'m not a good writer or something. I can\\'t say I make stories that will leave you speecless or make you cry. I just write, because I want to. I love SasuNaru, because I feel like they were made for each other, and I don\\'t like it when they are not together. I write the characters OOC because I mostly write AUs. When I\\'m writing my story, characters become mine, and they reflect my way of thinking or behaviour or how I wish to see them.\\nGENERAL WARNING: I WRITE EFFEMINATE NARUTO. I WRITE SASUKE WITH ACTUAL EMOTIONS, NOT AS A REFRIGERATOR WHOSE ONLY COMMUNICATION SOUND IS \"HN.\" I DISLIKE SAKURA. (I don\\'t have to love her and tbh I don\\'t see anything likable with her.) LOOKING FOR FLUENT, GRAMMATICALLY FAULTLESS STORIES? Too bad, I\\'m not your writer.\\nWHAT I WRITE THE BEST?: FLUFF. (Beware of FWP.) ANGST. (I love it when we all cry together.)\\nWHAT I\\'M NO GOOD FOR?: HUMOR. (I admit, my sense of humor is a bit off.) HORROR. (How can you write something scary? Unless you are S. King.) SMUT. (I don\\'t like PWP.)\\nHow I see the characters:'),\n",
       " Document(metadata={'source': 'data\\\\note.txt'}, page_content=\"WHAT I'M NO GOOD FOR?: HUMOR. (I admit, my sense of humor is a bit off.) HORROR. (How can you write something scary? Unless you are S. King.) SMUT. (I don't like PWP.)\\nHow I see the characters:\\nIf I should be honest, I didn't love Naruto at his first appearance. It happened in time. And you know what made me love him so much? His innocence. I know, Naruto is a determined, strong ninja. But have you ever realized how pure and childish he is in that dirty world? Many things showed me that Naruto is just a lost, little child inside and that's why I'm bolding that side of him in my stories. Yes, he was a really good ninja, but have you seen Naruto willingly killing people? I think if he had a chance, he wouldn't want to. Have you ever seen how he tries to talk to his enemies so maybe he will convince them and he won't have to hurt them? We all see a different person when we look at certain people and this is my Naruto.\\nMy love for Sasuke comes from my deep understanding. I love him the most and you can probably notice it in my writing.\\nWhy I write family/mpreg based stories:\\nI like writing mpregs because I know that my Naruto and Sasuke would be the best of the parents!\\nAbout Naruto being the mother in my stories, I don't think the reason why we call our mothers is because they are female, I think we do it, because they are the ones who gave birth to us. There is a saying, Heaven is under the feet of mothers, and my Naruto deserves heaven and much more. He has so much love to give and he deserves the love, care, understanding Sasuke tries to give him.\\nWhat kind of a writer/reader I am:\\nI'm not an author who likes to write every single thing. There will be holes in the stories and as readers you're free to imagine them however you like. I will leave spaces in the stories on purpose. I think this helps the readers to get in the story easier.\\nI love good angsty stories, but they always need to have happy endings and character dead is a huge no for me. Seriously, I can't stand it.\\nSadly, I can't read other fanfics when I'm writing one but I always try to read and support the new writers among us. Internet is full of mean people and just a nice word we will give them can make them happy and encourage them into writing and improving more.\\nI love it when my stories are complete. I work hard to finish them, so please don't worry about not reading the ending of my stories.\\nNote to my dear readers:\\nMy readers are always welcome to share their thoughts and their ideas for new stories. If your ideas are somehow crossing with mine, I'll write a fic for you and me! And now, I've decided to put your ideas into work! OUR STORIES is in progress! Each chapter of the story contains a request I got. If you want to see your idea written, please PM me. Let's share the SasuNaru love and fun!\\nLastly:\"),\n",
       " Document(metadata={'source': 'data\\\\note.txt'}, page_content=\"Lastly:\\nI can write only one story at a time, if not, I get discracted and end up dropping the story, which is not cool at all. I want to write more and update faster, but sadly, weekly updates are the best I can do atm. Lately, I decided to update on Monday nights, so watch out for the new chapters and happy reading!\\nNotice (14.10.2017):\\nHello everyone! I know, it's been a looong while since you've seen me last and I'm sorry! I've gotten so many comments and PMs and I'm so thankful that I have all of you. I'm fine, my health is good. I've lost 20 kgs since last year. Half of me is gone lol. I'm working hard nowadays, hoping to get better at what I do.\\nSo, I was writing a new story. And I was into six chapters when I suddenly stopped and felt like that I was rewriting myself. I didn't like it at all. I hated the the fact that I wasn't being creative. I took a break from writing to get some new inspiration and I started a new story. I hope I'll like it this time. I always try to write a story that's going to be better than the previous one, so I hope I'll achive that!\\nThank you so much sticking with me. I love you all, hope to see you soon!\")]"
      ]
     },
     "execution_count": 27,
     "metadata": {},
     "output_type": "execute_result"
    }
   ],
   "source": [
    "splitter=CharacterTextSplitter(separator=\"\\n\", chunk_size=3000,chunk_overlap=250)\n",
    "split_docs=splitter.split_documents(docs)\n",
    "split_docs"
   ]
  },
  {
   "cell_type": "markdown",
   "id": "aa38e185",
   "metadata": {},
   "source": [
    "## **Recursive Character Text Splitter**"
   ]
  },
  {
   "cell_type": "markdown",
   "id": "7810dbc1",
   "metadata": {},
   "source": [
    "### **RecursiveCharacterTextSplitter**\n",
    "\n",
    "* Tries multiple separators (e.g., \"\\n\", \".\", \" \") in a specific order to split the text.\n",
    "* Starts with the largest meaningful separator (like paragraphs or sentences) and falls back to smaller separators (like spaces) if the chunk size limit is still not met.\n",
    "* **More robust and better at preserving meaning.**\n",
    "\n",
    "#### Example:"
   ]
  },
  {
   "cell_type": "code",
   "execution_count": 29,
   "id": "a581a9e7",
   "metadata": {},
   "outputs": [],
   "source": [
    "from langchain_text_splitters import RecursiveCharacterTextSplitter\n",
    "text_splitter = RecursiveCharacterTextSplitter(\n",
    "    chunk_size=3000,\n",
    "    chunk_overlap=250,\n",
    "    length_function=len,\n",
    "    is_separator_regex=False,\n",
    ")\n",
    "\n",
    "# Load example document\n",
    "with open(r\"data\\note.txt\") as f:\n",
    "    state_of_the_union = f.read()"
   ]
  },
  {
   "cell_type": "code",
   "execution_count": 30,
   "id": "f7bf7aa3",
   "metadata": {},
   "outputs": [
    {
     "data": {
      "text/plain": [
       "[Document(metadata={}, page_content='The untimely death of billionaire industrialist Sunjay Kapur has left a deep void in both the corporate boardrooms and celebrity circles he straddled with equal ease. The 57-year-old chairman of Sona Comstar, a leading global player in automotive components, died suddenly on June 12, 2025, while playing polo in London. Medical reports suggest a rare and fatal anaphylactic shock, reportedly triggered after he accidentally swallowed a bee during the match.\\n\\nWhile tributes continue to pour in for the visionary businessman who took his father’s company global, the spotlight has now shifted to the inevitable and complicated question: Who inherits his estimated Rs 10,300 crore ($1.2 billion) fortune?\\n\\nSunjay Kapur’s death has triggered a swirl of speculation regarding the succession of his business empire and personal wealth. At the time of his passing, Sona Comstar had a market capitalisation of approximately Rs 31,000 crore ($4 billion). Under his leadership, the company expanded rapidly with operations in India, China, Mexico, Serbia, and the United States, becoming a major supplier to global electric vehicle manufacturers.\\n\\nFollowing the tragedy, Sona Comstar issued a public statement assuring stakeholders of business continuity and respect for Kapur’s legacy. However, no official announcement has been made regarding a successor, and the company now stands at a delicate crossroads.\\n\\nKapur leaves behind a complex family tree and a potentially contentious estate. He was married three times and is survived by three children: Samaira (20) and Kian (14) from his second wife, actress Karisma Kapur, and six-year-old Azariyas from his third and current wife, Priya Sachdev. He also acted as a stepfather to Priya’s daughter from a previous marriage.\\n\\nIndian inheritance law adds another layer to the unfolding drama. As per the Hindu Succession Act of 1956, children are entitled to a share of their father’s property – regardless of the parents’ marital status at the time of death. While a legally drafted will can override typical inheritance rules, sources close to the family suggest no public confirmation has been made regarding such a document.\\n\\nIf a will does exist, it could designate specific allocations – possibly even excluding some heirs. But in the absence of one, the estate would be distributed among his legal heirs, including all biological children and his surviving spouse, Priya Sachdev.\\n\\nKapur’s high-profile marriage to Bollywood actress Karisma Kapoor ended in 2016, but not without legal safeguards for their two children. According to divorce settlement details reported at the time, Sunjay Kapur had already set aside bonds worth Rs 14 crore each for Samaira and Kian, along with a monthly income of Rs 10 lakh. Karisma was also awarded his father’s Mumbai residence under the Supreme Court-monitored alimony agreement, and she received full custody of both children.'),\n",
       " Document(metadata={}, page_content='Still, these arrangements pertain only to child support and post-divorce alimony. Whether Samaira and Kian will receive a larger portion of Kapur’s corporate and personal wealth remains uncertain and could depend on the existence and contents of a valid will.\\n\\nPriya Sachdev, Kapur’s third wife, is widely expected to be a principal beneficiary of his estate. Not only is she the mother of his youngest son, Azariyas, but she was also his spouse at the time of death. In the eyes of the law, she holds a strong claim over the late tycoon’s assets. Before marrying Kapur, Sachdev was married to businessman Vikram Chatwal, with whom she had a daughter. Sunjay Kapur was known to have embraced both children as part of his family.\\n\\nAs of now, some media reports suggest that Kapur’s sisters may be considered for management roles within Sona Comstar, though the company has made no official announcement. In the meantime, the boardroom remains without its captain, and the estate, without a publicly named heir.\\n\\nThe case surrounding Sunjay Kapur’s inheritance is expected to become clearer in the coming weeks, once legal proceedings and probate processes begin. Until then, his multi-crore legacy hangs delicately between bloodlines, boardrooms, and legalities.\\n\\nHello there,\\n\\nI\\'m Rosswen, a 25 year old business woman who tries to be creative time to time!\\n\\nI\\'m not a good writer or something. I can\\'t say I make stories that will leave you speecless or make you cry. I just write, because I want to. I love SasuNaru, because I feel like they were made for each other, and I don\\'t like it when they are not together. I write the characters OOC because I mostly write AUs. When I\\'m writing my story, characters become mine, and they reflect my way of thinking or behaviour or how I wish to see them.\\n\\nGENERAL WARNING: I WRITE EFFEMINATE NARUTO. I WRITE SASUKE WITH ACTUAL EMOTIONS, NOT AS A REFRIGERATOR WHOSE ONLY COMMUNICATION SOUND IS \"HN.\" I DISLIKE SAKURA. (I don\\'t have to love her and tbh I don\\'t see anything likable with her.) LOOKING FOR FLUENT, GRAMMATICALLY FAULTLESS STORIES? Too bad, I\\'m not your writer.\\n\\nWHAT I WRITE THE BEST?: FLUFF. (Beware of FWP.) ANGST. (I love it when we all cry together.)\\n\\nWHAT I\\'M NO GOOD FOR?: HUMOR. (I admit, my sense of humor is a bit off.) HORROR. (How can you write something scary? Unless you are S. King.) SMUT. (I don\\'t like PWP.)\\n\\nHow I see the characters:'),\n",
       " Document(metadata={}, page_content=\"WHAT I'M NO GOOD FOR?: HUMOR. (I admit, my sense of humor is a bit off.) HORROR. (How can you write something scary? Unless you are S. King.) SMUT. (I don't like PWP.)\\n\\nHow I see the characters:\\n\\nIf I should be honest, I didn't love Naruto at his first appearance. It happened in time. And you know what made me love him so much? His innocence. I know, Naruto is a determined, strong ninja. But have you ever realized how pure and childish he is in that dirty world? Many things showed me that Naruto is just a lost, little child inside and that's why I'm bolding that side of him in my stories. Yes, he was a really good ninja, but have you seen Naruto willingly killing people? I think if he had a chance, he wouldn't want to. Have you ever seen how he tries to talk to his enemies so maybe he will convince them and he won't have to hurt them? We all see a different person when we look at certain people and this is my Naruto.\\n\\nMy love for Sasuke comes from my deep understanding. I love him the most and you can probably notice it in my writing.\\n\\nWhy I write family/mpreg based stories:\\n\\nI like writing mpregs because I know that my Naruto and Sasuke would be the best of the parents!\\n\\nAbout Naruto being the mother in my stories, I don't think the reason why we call our mothers is because they are female, I think we do it, because they are the ones who gave birth to us. There is a saying, Heaven is under the feet of mothers, and my Naruto deserves heaven and much more. He has so much love to give and he deserves the love, care, understanding Sasuke tries to give him.\\n\\nWhat kind of a writer/reader I am:\\n\\nI'm not an author who likes to write every single thing. There will be holes in the stories and as readers you're free to imagine them however you like. I will leave spaces in the stories on purpose. I think this helps the readers to get in the story easier.\\n\\nI love good angsty stories, but they always need to have happy endings and character dead is a huge no for me. Seriously, I can't stand it.\\n\\nSadly, I can't read other fanfics when I'm writing one but I always try to read and support the new writers among us. Internet is full of mean people and just a nice word we will give them can make them happy and encourage them into writing and improving more.\\n\\nI love it when my stories are complete. I work hard to finish them, so please don't worry about not reading the ending of my stories.\\n\\nNote to my dear readers:\\n\\nMy readers are always welcome to share their thoughts and their ideas for new stories. If your ideas are somehow crossing with mine, I'll write a fic for you and me! And now, I've decided to put your ideas into work! OUR STORIES is in progress! Each chapter of the story contains a request I got. If you want to see your idea written, please PM me. Let's share the SasuNaru love and fun!\\n\\nLastly:\"),\n",
       " Document(metadata={}, page_content=\"Lastly:\\n\\nI can write only one story at a time, if not, I get discracted and end up dropping the story, which is not cool at all. I want to write more and update faster, but sadly, weekly updates are the best I can do atm. Lately, I decided to update on Monday nights, so watch out for the new chapters and happy reading!\\n\\nNotice (14.10.2017):\\n\\nHello everyone! I know, it's been a looong while since you've seen me last and I'm sorry! I've gotten so many comments and PMs and I'm so thankful that I have all of you. I'm fine, my health is good. I've lost 20 kgs since last year. Half of me is gone lol. I'm working hard nowadays, hoping to get better at what I do.\\n\\nSo, I was writing a new story. And I was into six chapters when I suddenly stopped and felt like that I was rewriting myself. I didn't like it at all. I hated the the fact that I wasn't being creative. I took a break from writing to get some new inspiration and I started a new story. I hope I'll like it this time. I always try to write a story that's going to be better than the previous one, so I hope I'll achive that!\\n\\nThank you so much sticking with me. I love you all, hope to see you soon!\")]"
      ]
     },
     "execution_count": 30,
     "metadata": {},
     "output_type": "execute_result"
    }
   ],
   "source": [
    "texts = text_splitter.create_documents([state_of_the_union])\n",
    "\n",
    "texts"
   ]
  },
  {
   "cell_type": "markdown",
   "id": "78b90c84",
   "metadata": {},
   "source": [
    "Here, it first tries to split by `\\n` (newline). If the chunk is too large, it falls back to `.` (period), and then to `\" \"` (space), ensuring chunks are more meaningful."
   ]
  },
  {
   "cell_type": "code",
   "execution_count": 31,
   "id": "057d9a98",
   "metadata": {},
   "outputs": [
    {
     "data": {
      "text/plain": [
       "4"
      ]
     },
     "execution_count": 31,
     "metadata": {},
     "output_type": "execute_result"
    }
   ],
   "source": [
    "len(texts)"
   ]
  },
  {
   "cell_type": "code",
   "execution_count": 32,
   "id": "44279771",
   "metadata": {},
   "outputs": [
    {
     "name": "stdout",
     "output_type": "stream",
     "text": [
      "page_content='The untimely death of billionaire industrialist Sunjay Kapur has left a deep void in both the corporate boardrooms and celebrity circles he straddled with equal ease. The 57-year-old chairman of Sona Comstar, a leading global player in automotive components, died suddenly on June 12, 2025, while playing polo in London. Medical reports suggest a rare and fatal anaphylactic shock, reportedly triggered after he accidentally swallowed a bee during the match.\n",
      "\n",
      "While tributes continue to pour in for the visionary businessman who took his father’s company global, the spotlight has now shifted to the inevitable and complicated question: Who inherits his estimated Rs 10,300 crore ($1.2 billion) fortune?\n",
      "\n",
      "Sunjay Kapur’s death has triggered a swirl of speculation regarding the succession of his business empire and personal wealth. At the time of his passing, Sona Comstar had a market capitalisation of approximately Rs 31,000 crore ($4 billion). Under his leadership, the company expanded rapidly with operations in India, China, Mexico, Serbia, and the United States, becoming a major supplier to global electric vehicle manufacturers.\n",
      "\n",
      "Following the tragedy, Sona Comstar issued a public statement assuring stakeholders of business continuity and respect for Kapur’s legacy. However, no official announcement has been made regarding a successor, and the company now stands at a delicate crossroads.\n",
      "\n",
      "Kapur leaves behind a complex family tree and a potentially contentious estate. He was married three times and is survived by three children: Samaira (20) and Kian (14) from his second wife, actress Karisma Kapur, and six-year-old Azariyas from his third and current wife, Priya Sachdev. He also acted as a stepfather to Priya’s daughter from a previous marriage.\n",
      "\n",
      "Indian inheritance law adds another layer to the unfolding drama. As per the Hindu Succession Act of 1956, children are entitled to a share of their father’s property – regardless of the parents’ marital status at the time of death. While a legally drafted will can override typical inheritance rules, sources close to the family suggest no public confirmation has been made regarding such a document.\n",
      "\n",
      "If a will does exist, it could designate specific allocations – possibly even excluding some heirs. But in the absence of one, the estate would be distributed among his legal heirs, including all biological children and his surviving spouse, Priya Sachdev.\n",
      "\n",
      "Kapur’s high-profile marriage to Bollywood actress Karisma Kapoor ended in 2016, but not without legal safeguards for their two children. According to divorce settlement details reported at the time, Sunjay Kapur had already set aside bonds worth Rs 14 crore each for Samaira and Kian, along with a monthly income of Rs 10 lakh. Karisma was also awarded his father’s Mumbai residence under the Supreme Court-monitored alimony agreement, and she received full custody of both children.'\n",
      "page_content='Still, these arrangements pertain only to child support and post-divorce alimony. Whether Samaira and Kian will receive a larger portion of Kapur’s corporate and personal wealth remains uncertain and could depend on the existence and contents of a valid will.\n",
      "\n",
      "Priya Sachdev, Kapur’s third wife, is widely expected to be a principal beneficiary of his estate. Not only is she the mother of his youngest son, Azariyas, but she was also his spouse at the time of death. In the eyes of the law, she holds a strong claim over the late tycoon’s assets. Before marrying Kapur, Sachdev was married to businessman Vikram Chatwal, with whom she had a daughter. Sunjay Kapur was known to have embraced both children as part of his family.\n",
      "\n",
      "As of now, some media reports suggest that Kapur’s sisters may be considered for management roles within Sona Comstar, though the company has made no official announcement. In the meantime, the boardroom remains without its captain, and the estate, without a publicly named heir.\n",
      "\n",
      "The case surrounding Sunjay Kapur’s inheritance is expected to become clearer in the coming weeks, once legal proceedings and probate processes begin. Until then, his multi-crore legacy hangs delicately between bloodlines, boardrooms, and legalities.\n",
      "\n",
      "Hello there,\n",
      "\n",
      "I'm Rosswen, a 25 year old business woman who tries to be creative time to time!\n",
      "\n",
      "I'm not a good writer or something. I can't say I make stories that will leave you speecless or make you cry. I just write, because I want to. I love SasuNaru, because I feel like they were made for each other, and I don't like it when they are not together. I write the characters OOC because I mostly write AUs. When I'm writing my story, characters become mine, and they reflect my way of thinking or behaviour or how I wish to see them.\n",
      "\n",
      "GENERAL WARNING: I WRITE EFFEMINATE NARUTO. I WRITE SASUKE WITH ACTUAL EMOTIONS, NOT AS A REFRIGERATOR WHOSE ONLY COMMUNICATION SOUND IS \"HN.\" I DISLIKE SAKURA. (I don't have to love her and tbh I don't see anything likable with her.) LOOKING FOR FLUENT, GRAMMATICALLY FAULTLESS STORIES? Too bad, I'm not your writer.\n",
      "\n",
      "WHAT I WRITE THE BEST?: FLUFF. (Beware of FWP.) ANGST. (I love it when we all cry together.)\n",
      "\n",
      "WHAT I'M NO GOOD FOR?: HUMOR. (I admit, my sense of humor is a bit off.) HORROR. (How can you write something scary? Unless you are S. King.) SMUT. (I don't like PWP.)\n",
      "\n",
      "How I see the characters:'\n"
     ]
    }
   ],
   "source": [
    "print(texts[0])\n",
    "print(texts[1])"
   ]
  },
  {
   "cell_type": "markdown",
   "id": "9f4aff55",
   "metadata": {},
   "source": [
    "Both `CharacterTextSplitter` and `RecursiveCharacterTextSplitter` are tools in LangChain used for splitting text into chunks. The main difference is **how they split the text** when the chunk size limit is reached.\n",
    "\n",
    "---\n",
    "\n",
    "### **Key Difference**\n",
    "\n",
    "* **CharacterTextSplitter**: Splits with a single separator and may break words or sentences.\n",
    "* **RecursiveCharacterTextSplitter**: Uses multiple separators in a fallback manner, aiming to preserve meaning.\n",
    "\n",
    "Use **`CharacterTextSplitter`** for simplicity and **`RecursiveCharacterTextSplitter`** for more structured splitting."
   ]
  },
  {
   "cell_type": "code",
   "execution_count": null,
   "id": "31c6a79e",
   "metadata": {},
   "outputs": [],
   "source": []
  }
 ],
 "metadata": {
  "kernelspec": {
   "display_name": "Python 3",
   "language": "python",
   "name": "python3"
  },
  "language_info": {
   "codemirror_mode": {
    "name": "ipython",
    "version": 3
   },
   "file_extension": ".py",
   "mimetype": "text/x-python",
   "name": "python",
   "nbconvert_exporter": "python",
   "pygments_lexer": "ipython3",
   "version": "3.10.18"
  }
 },
 "nbformat": 4,
 "nbformat_minor": 5
}
